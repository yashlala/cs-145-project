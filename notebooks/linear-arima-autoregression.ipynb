{
 "cells": [
  {
   "cell_type": "markdown",
   "metadata": {
    "id": "0W3hMfkuhLuh"
   },
   "source": [
    "# Looking at Models to Predict Confirmed Cases and Deaths"
   ]
  },
  {
   "cell_type": "markdown",
   "metadata": {
    "id": "2qvsg2DYhLui"
   },
   "source": [
    "Given my initial screw up using a linear model given that we can only predict on time, I will look at various time series models and train them here."
   ]
  },
  {
   "cell_type": "code",
   "execution_count": 1,
   "metadata": {
    "id": "IcZp1LL2hLuk"
   },
   "outputs": [],
   "source": [
    "import numpy as np\n",
    "import seaborn as sns\n",
    "import matplotlib.pyplot as plt\n",
    "import pandas as pd"
   ]
  },
  {
   "cell_type": "code",
   "execution_count": 2,
   "metadata": {
    "id": "VsW8-KhbhLus",
    "outputId": "857b4540-6361-44cd-cd3d-ce231e337293"
   },
   "outputs": [
    {
     "data": {
      "text/html": [
       "<div>\n",
       "<style scoped>\n",
       "    .dataframe tbody tr th:only-of-type {\n",
       "        vertical-align: middle;\n",
       "    }\n",
       "\n",
       "    .dataframe tbody tr th {\n",
       "        vertical-align: top;\n",
       "    }\n",
       "\n",
       "    .dataframe thead th {\n",
       "        text-align: right;\n",
       "    }\n",
       "</style>\n",
       "<table border=\"1\" class=\"dataframe\">\n",
       "  <thead>\n",
       "    <tr style=\"text-align: right;\">\n",
       "      <th></th>\n",
       "      <th>ID</th>\n",
       "      <th>Province_State</th>\n",
       "      <th>Date</th>\n",
       "      <th>Confirmed</th>\n",
       "      <th>Deaths</th>\n",
       "      <th>Recovered</th>\n",
       "      <th>Active</th>\n",
       "      <th>Incident_Rate</th>\n",
       "      <th>People_Tested</th>\n",
       "      <th>People_Hospitalized</th>\n",
       "      <th>Mortality_Rate</th>\n",
       "      <th>Testing_Rate</th>\n",
       "      <th>Hospitalization_Rate</th>\n",
       "    </tr>\n",
       "  </thead>\n",
       "  <tbody>\n",
       "    <tr>\n",
       "      <th>0</th>\n",
       "      <td>0</td>\n",
       "      <td>Alabama</td>\n",
       "      <td>04-12-2020</td>\n",
       "      <td>3563</td>\n",
       "      <td>93</td>\n",
       "      <td>NaN</td>\n",
       "      <td>3470.0</td>\n",
       "      <td>75.988020</td>\n",
       "      <td>21583.0</td>\n",
       "      <td>437.0</td>\n",
       "      <td>2.610160</td>\n",
       "      <td>460.300152</td>\n",
       "      <td>12.264945</td>\n",
       "    </tr>\n",
       "    <tr>\n",
       "      <th>1</th>\n",
       "      <td>1</td>\n",
       "      <td>Alaska</td>\n",
       "      <td>04-12-2020</td>\n",
       "      <td>272</td>\n",
       "      <td>8</td>\n",
       "      <td>66.0</td>\n",
       "      <td>264.0</td>\n",
       "      <td>45.504049</td>\n",
       "      <td>8038.0</td>\n",
       "      <td>31.0</td>\n",
       "      <td>2.941176</td>\n",
       "      <td>1344.711576</td>\n",
       "      <td>11.397059</td>\n",
       "    </tr>\n",
       "    <tr>\n",
       "      <th>2</th>\n",
       "      <td>2</td>\n",
       "      <td>Arizona</td>\n",
       "      <td>04-12-2020</td>\n",
       "      <td>3542</td>\n",
       "      <td>115</td>\n",
       "      <td>NaN</td>\n",
       "      <td>3427.0</td>\n",
       "      <td>48.662422</td>\n",
       "      <td>42109.0</td>\n",
       "      <td>NaN</td>\n",
       "      <td>3.246753</td>\n",
       "      <td>578.522286</td>\n",
       "      <td>NaN</td>\n",
       "    </tr>\n",
       "    <tr>\n",
       "      <th>3</th>\n",
       "      <td>3</td>\n",
       "      <td>Arkansas</td>\n",
       "      <td>04-12-2020</td>\n",
       "      <td>1280</td>\n",
       "      <td>27</td>\n",
       "      <td>367.0</td>\n",
       "      <td>1253.0</td>\n",
       "      <td>49.439423</td>\n",
       "      <td>19722.0</td>\n",
       "      <td>130.0</td>\n",
       "      <td>2.109375</td>\n",
       "      <td>761.753354</td>\n",
       "      <td>10.156250</td>\n",
       "    </tr>\n",
       "    <tr>\n",
       "      <th>4</th>\n",
       "      <td>4</td>\n",
       "      <td>California</td>\n",
       "      <td>04-12-2020</td>\n",
       "      <td>22795</td>\n",
       "      <td>640</td>\n",
       "      <td>NaN</td>\n",
       "      <td>22155.0</td>\n",
       "      <td>58.137726</td>\n",
       "      <td>190328.0</td>\n",
       "      <td>5234.0</td>\n",
       "      <td>2.812020</td>\n",
       "      <td>485.423869</td>\n",
       "      <td>22.961176</td>\n",
       "    </tr>\n",
       "  </tbody>\n",
       "</table>\n",
       "</div>"
      ],
      "text/plain": [
       "   ID Province_State        Date  Confirmed  Deaths  Recovered   Active  \\\n",
       "0   0        Alabama  04-12-2020       3563      93        NaN   3470.0   \n",
       "1   1         Alaska  04-12-2020        272       8       66.0    264.0   \n",
       "2   2        Arizona  04-12-2020       3542     115        NaN   3427.0   \n",
       "3   3       Arkansas  04-12-2020       1280      27      367.0   1253.0   \n",
       "4   4     California  04-12-2020      22795     640        NaN  22155.0   \n",
       "\n",
       "   Incident_Rate  People_Tested  People_Hospitalized  Mortality_Rate  \\\n",
       "0      75.988020        21583.0                437.0        2.610160   \n",
       "1      45.504049         8038.0                 31.0        2.941176   \n",
       "2      48.662422        42109.0                  NaN        3.246753   \n",
       "3      49.439423        19722.0                130.0        2.109375   \n",
       "4      58.137726       190328.0               5234.0        2.812020   \n",
       "\n",
       "   Testing_Rate  Hospitalization_Rate  \n",
       "0    460.300152             12.264945  \n",
       "1   1344.711576             11.397059  \n",
       "2    578.522286                   NaN  \n",
       "3    761.753354             10.156250  \n",
       "4    485.423869             22.961176  "
      ]
     },
     "execution_count": 2,
     "metadata": {},
     "output_type": "execute_result"
    }
   ],
   "source": [
    "train = pd.read_csv('../data/train.csv')\n",
    "train.head()"
   ]
  },
  {
   "cell_type": "code",
   "execution_count": 3,
   "metadata": {
    "id": "sLaFCgoXhLuw",
    "outputId": "eefbd4e5-43b5-4187-b8b8-b09494f2d8bd"
   },
   "outputs": [
    {
     "data": {
      "text/plain": [
       "ID                        int64\n",
       "Province_State           object\n",
       "Date                     object\n",
       "Confirmed                 int64\n",
       "Deaths                    int64\n",
       "Recovered               float64\n",
       "Active                  float64\n",
       "Incident_Rate           float64\n",
       "People_Tested           float64\n",
       "People_Hospitalized     float64\n",
       "Mortality_Rate          float64\n",
       "Testing_Rate            float64\n",
       "Hospitalization_Rate    float64\n",
       "dtype: object"
      ]
     },
     "execution_count": 3,
     "metadata": {},
     "output_type": "execute_result"
    }
   ],
   "source": [
    "train.dtypes"
   ]
  },
  {
   "cell_type": "code",
   "execution_count": 4,
   "metadata": {
    "id": "Q2SgeuVLhLu0"
   },
   "outputs": [],
   "source": [
    "train['Date'] = pd.to_datetime(train['Date'])"
   ]
  },
  {
   "cell_type": "markdown",
   "metadata": {
    "id": "cCafqMbghLu4"
   },
   "source": [
    "# Autoregressive Model"
   ]
  },
  {
   "cell_type": "markdown",
   "metadata": {
    "id": "RolMDNYrhLu6"
   },
   "source": [
    "For an autoregressive model, we need the the future time step to be correlated with the current time step, so I need to check if that is indeed true for our covid19 data."
   ]
  },
  {
   "cell_type": "code",
   "execution_count": 5,
   "metadata": {
    "id": "dpY3JFRUhLu9",
    "outputId": "2fd1107f-ea8b-4e8e-cf73-8750d938571b"
   },
   "outputs": [
    {
     "data": {
      "text/html": [
       "<div>\n",
       "<style scoped>\n",
       "    .dataframe tbody tr th:only-of-type {\n",
       "        vertical-align: middle;\n",
       "    }\n",
       "\n",
       "    .dataframe tbody tr th {\n",
       "        vertical-align: top;\n",
       "    }\n",
       "\n",
       "    .dataframe thead th {\n",
       "        text-align: right;\n",
       "    }\n",
       "</style>\n",
       "<table border=\"1\" class=\"dataframe\">\n",
       "  <thead>\n",
       "    <tr style=\"text-align: right;\">\n",
       "      <th></th>\n",
       "      <th>ID</th>\n",
       "      <th>Province_State</th>\n",
       "      <th>Date</th>\n",
       "      <th>Confirmed</th>\n",
       "      <th>Deaths</th>\n",
       "      <th>Recovered</th>\n",
       "      <th>Active</th>\n",
       "      <th>Incident_Rate</th>\n",
       "      <th>People_Tested</th>\n",
       "      <th>People_Hospitalized</th>\n",
       "      <th>Mortality_Rate</th>\n",
       "      <th>Testing_Rate</th>\n",
       "      <th>Hospitalization_Rate</th>\n",
       "    </tr>\n",
       "  </thead>\n",
       "  <tbody>\n",
       "    <tr>\n",
       "      <th>2</th>\n",
       "      <td>2</td>\n",
       "      <td>Arizona</td>\n",
       "      <td>2020-04-12</td>\n",
       "      <td>3542</td>\n",
       "      <td>115</td>\n",
       "      <td>NaN</td>\n",
       "      <td>3427.0</td>\n",
       "      <td>48.662422</td>\n",
       "      <td>42109.0</td>\n",
       "      <td>NaN</td>\n",
       "      <td>3.246753</td>\n",
       "      <td>578.522286</td>\n",
       "      <td>NaN</td>\n",
       "    </tr>\n",
       "    <tr>\n",
       "      <th>52</th>\n",
       "      <td>52</td>\n",
       "      <td>Arizona</td>\n",
       "      <td>2020-04-13</td>\n",
       "      <td>3705</td>\n",
       "      <td>122</td>\n",
       "      <td>NaN</td>\n",
       "      <td>3583.0</td>\n",
       "      <td>50.901828</td>\n",
       "      <td>43347.0</td>\n",
       "      <td>525.0</td>\n",
       "      <td>3.292848</td>\n",
       "      <td>595.530778</td>\n",
       "      <td>14.170040</td>\n",
       "    </tr>\n",
       "    <tr>\n",
       "      <th>102</th>\n",
       "      <td>102</td>\n",
       "      <td>Arizona</td>\n",
       "      <td>2020-04-14</td>\n",
       "      <td>3809</td>\n",
       "      <td>131</td>\n",
       "      <td>249.0</td>\n",
       "      <td>3678.0</td>\n",
       "      <td>52.330651</td>\n",
       "      <td>44096.0</td>\n",
       "      <td>580.0</td>\n",
       "      <td>3.439223</td>\n",
       "      <td>605.821053</td>\n",
       "      <td>15.227094</td>\n",
       "    </tr>\n",
       "    <tr>\n",
       "      <th>152</th>\n",
       "      <td>152</td>\n",
       "      <td>Arizona</td>\n",
       "      <td>2020-04-15</td>\n",
       "      <td>3964</td>\n",
       "      <td>142</td>\n",
       "      <td>385.0</td>\n",
       "      <td>3822.0</td>\n",
       "      <td>54.460147</td>\n",
       "      <td>45310.0</td>\n",
       "      <td>590.0</td>\n",
       "      <td>3.582240</td>\n",
       "      <td>622.499817</td>\n",
       "      <td>14.883956</td>\n",
       "    </tr>\n",
       "    <tr>\n",
       "      <th>202</th>\n",
       "      <td>202</td>\n",
       "      <td>Arizona</td>\n",
       "      <td>2020-04-16</td>\n",
       "      <td>4237</td>\n",
       "      <td>150</td>\n",
       "      <td>460.0</td>\n",
       "      <td>4087.0</td>\n",
       "      <td>58.210808</td>\n",
       "      <td>47398.0</td>\n",
       "      <td>578.0</td>\n",
       "      <td>3.540241</td>\n",
       "      <td>651.186191</td>\n",
       "      <td>13.641728</td>\n",
       "    </tr>\n",
       "  </tbody>\n",
       "</table>\n",
       "</div>"
      ],
      "text/plain": [
       "      ID Province_State       Date  Confirmed  Deaths  Recovered  Active  \\\n",
       "2      2        Arizona 2020-04-12       3542     115        NaN  3427.0   \n",
       "52    52        Arizona 2020-04-13       3705     122        NaN  3583.0   \n",
       "102  102        Arizona 2020-04-14       3809     131      249.0  3678.0   \n",
       "152  152        Arizona 2020-04-15       3964     142      385.0  3822.0   \n",
       "202  202        Arizona 2020-04-16       4237     150      460.0  4087.0   \n",
       "\n",
       "     Incident_Rate  People_Tested  People_Hospitalized  Mortality_Rate  \\\n",
       "2        48.662422        42109.0                  NaN        3.246753   \n",
       "52       50.901828        43347.0                525.0        3.292848   \n",
       "102      52.330651        44096.0                580.0        3.439223   \n",
       "152      54.460147        45310.0                590.0        3.582240   \n",
       "202      58.210808        47398.0                578.0        3.540241   \n",
       "\n",
       "     Testing_Rate  Hospitalization_Rate  \n",
       "2      578.522286                   NaN  \n",
       "52     595.530778             14.170040  \n",
       "102    605.821053             15.227094  \n",
       "152    622.499817             14.883956  \n",
       "202    651.186191             13.641728  "
      ]
     },
     "execution_count": 5,
     "metadata": {},
     "output_type": "execute_result"
    }
   ],
   "source": [
    "cali = train.loc[train['Province_State'] == 'Arizona']\n",
    "cali.head()"
   ]
  },
  {
   "cell_type": "code",
   "execution_count": 6,
   "metadata": {
    "id": "1EGct7tDhLvC",
    "outputId": "8461fe0f-1e85-411c-de3f-6d9cdba9e66d"
   },
   "outputs": [
    {
     "data": {
      "text/plain": [
       "<matplotlib.axes._subplots.AxesSubplot at 0x7f0d6b24a810>"
      ]
     },
     "execution_count": 6,
     "metadata": {},
     "output_type": "execute_result"
    },
    {
     "data": {
      "image/png": "[encoded data removed]",
      "text/plain": [
       "<Figure size 432x288 with 1 Axes>"
      ]
     },
     "metadata": {
      "needs_background": "light"
     },
     "output_type": "display_data"
    }
   ],
   "source": [
    "pd.plotting.lag_plot(cali['Confirmed'])"
   ]
  },
  {
   "cell_type": "markdown",
   "metadata": {
    "id": "BSH_Mo6IhLvG"
   },
   "source": [
    "This looks very linear, so it seems promising to use an AR model"
   ]
  },
  {
   "cell_type": "markdown",
   "metadata": {
    "id": "X3hqtYgIhLvH"
   },
   "source": [
    "Please install the statsmodels package before you run this cell."
   ]
  },
  {
   "cell_type": "code",
   "execution_count": 7,
   "metadata": {
    "id": "yw9jgMKahLvH"
   },
   "outputs": [],
   "source": [
    "from statsmodels.tsa.ar_model import AutoReg"
   ]
  },
  {
   "cell_type": "code",
   "execution_count": 8,
   "metadata": {
    "id": "HB4BuKurhLvN",
    "outputId": "7b9941f2-06e0-418c-b641-936f2bbe0c10"
   },
   "outputs": [
    {
     "data": {
      "text/plain": [
       "142"
      ]
     },
     "execution_count": 8,
     "metadata": {},
     "output_type": "execute_result"
    }
   ],
   "source": [
    "len(cali['Confirmed'])"
   ]
  },
  {
   "cell_type": "code",
   "execution_count": 9,
   "metadata": {
    "id": "VL56sIZihLvQ"
   },
   "outputs": [],
   "source": [
    "#I will try and predict the last 7 days\n",
    "cali_train = cali['Confirmed'].iloc[0:112]\n",
    "cali_test = cali['Confirmed'].iloc[112:142]"
   ]
  },
  {
   "cell_type": "code",
   "execution_count": 10,
   "metadata": {
    "id": "Ywy4o5ZRhLvT",
    "outputId": "930cecfe-37b1-4700-99f6-3d601504fc46"
   },
   "outputs": [
    {
     "data": {
      "text/plain": [
       "array([12.10683023, 12.12936709, 12.15152074, 12.17328494, 12.19465334,\n",
       "       12.21561949, 12.23617683, 12.25631872, 12.27603836, 12.2953289 ,\n",
       "       12.31418332, 12.33259454, 12.35055531, 12.36805831, 12.38509608,\n",
       "       12.40166103, 12.41774545, 12.43334153, 12.4484413 , 12.46303667,\n",
       "       12.47711942, 12.49068121, 12.50371353, 12.51620777, 12.52815516,\n",
       "       12.53954678, 12.55037358, 12.56062636, 12.57029576, 12.57937227])"
      ]
     },
     "execution_count": 10,
     "metadata": {},
     "output_type": "execute_result"
    }
   ],
   "source": [
    "model = AutoReg(np.log(cali_train).to_numpy(), lags=1, trend = 'ct')\n",
    "model_fit = model.fit()\n",
    "predicted_confirmed = model_fit.predict(start=112, end=141, dynamic=False)\n",
    "predicted_confirmed"
   ]
  },
  {
   "cell_type": "code",
   "execution_count": 11,
   "metadata": {
    "id": "TSlfmpJ2hLvW",
    "outputId": "353e6b4d-f495-4e37-c97e-511126b83183",
    "scrolled": true
   },
   "outputs": [
    {
     "data": {
      "text/plain": [
       "30"
      ]
     },
     "execution_count": 11,
     "metadata": {},
     "output_type": "execute_result"
    }
   ],
   "source": [
    "len(cali_test)"
   ]
  },
  {
   "cell_type": "code",
   "execution_count": 12,
   "metadata": {
    "id": "bDIbfQpHhLvZ",
    "outputId": "a5cd5373-650c-4d97-fbe9-1443f16b479a"
   },
   "outputs": [
    {
     "data": {
      "text/plain": [
       "30"
      ]
     },
     "execution_count": 12,
     "metadata": {},
     "output_type": "execute_result"
    }
   ],
   "source": [
    "len(predicted_confirmed)"
   ]
  },
  {
   "cell_type": "code",
   "execution_count": 13,
   "metadata": {
    "id": "4a2WO8E6hLvf"
   },
   "outputs": [],
   "source": [
    "#Plotting the two variables with their dates\n",
    "dates = cali['Date'].iloc[112:142].to_numpy()\n",
    "d1 = {'Date' : dates, 'Confirmed': cali_test.to_numpy()}\n",
    "d2 = {'Date' : dates, 'Confirmed': np.exp(predicted_confirmed)}\n",
    "actual = pd.DataFrame(d1)\n",
    "predicted = pd.DataFrame(d2)"
   ]
  },
  {
   "cell_type": "code",
   "execution_count": 14,
   "metadata": {
    "id": "d2NkQDN5hLvm",
    "outputId": "863e9acb-49ac-4e68-caf4-f8dfc288000a"
   },
   "outputs": [
    {
     "data": {
      "text/plain": [
       "[<matplotlib.lines.Line2D at 0x7f0d699462d0>]"
      ]
     },
     "execution_count": 14,
     "metadata": {},
     "output_type": "execute_result"
    },
    {
     "data": {
      "image/png": "[encoded data removed]",
      "text/plain": [
       "<Figure size 432x288 with 1 Axes>"
      ]
     },
     "metadata": {
      "needs_background": "light"
     },
     "output_type": "display_data"
    }
   ],
   "source": [
    "plt.plot(actual['Confirmed'])\n",
    "plt.plot(predicted['Confirmed'])"
   ]
  },
  {
   "cell_type": "markdown",
   "metadata": {
    "id": "2KjRqGElhLvq"
   },
   "source": [
    "We can kind of see the predicted and actual diverge as time goes on, since we are predicting for only 30 days it isn't too bad as you will see below"
   ]
  },
  {
   "cell_type": "code",
   "execution_count": 15,
   "metadata": {
    "id": "El8KC24QhLvr"
   },
   "outputs": [],
   "source": [
    "def MAPE(pred, actual):\n",
    "    assert len(pred) == len(actual)\n",
    "    res = 0\n",
    "    for i, val in enumerate(pred):\n",
    "        diff = np.abs(val - actual[i])\n",
    "        diff = diff / np.abs(actual[i])\n",
    "        res += diff\n",
    "    return res/len(pred) * 100"
   ]
  },
  {
   "cell_type": "code",
   "execution_count": 16,
   "metadata": {
    "id": "pGBvteHWhLvy",
    "outputId": "f016840f-bc46-43ae-a357-14c00a588bb1"
   },
   "outputs": [
    {
     "data": {
      "text/plain": [
       "23.891354502136686"
      ]
     },
     "execution_count": 16,
     "metadata": {},
     "output_type": "execute_result"
    }
   ],
   "source": [
    "MAPE(predicted['Confirmed'], actual['Confirmed'])"
   ]
  },
  {
   "cell_type": "markdown",
   "metadata": {
    "id": "sbOEtaWOhLv7"
   },
   "source": [
    "# Lets try it for each state and see the error for each state"
   ]
  },
  {
   "cell_type": "code",
   "execution_count": 17,
   "metadata": {
    "id": "TKkbppR1hLv_",
    "outputId": "72e4b84b-f19b-4600-8cd9-f68d1cf02189"
   },
   "outputs": [
    {
     "name": "stdout",
     "output_type": "stream",
     "text": [
      "Alabama: 19.551293098362354\n",
      "Alaska: 45.44252197612227\n",
      "Arizona: 24.92196774155464\n",
      "Arkansas: 13.149974577519757\n",
      "California: 14.337610791129205\n",
      "Colorado: 0.9404320545032433\n",
      "Connecticut: 1.8838237807735094\n",
      "Delaware: 2.4930531395624835\n",
      "Florida: 22.803449366856874\n",
      "Georgia: 16.977831767216742\n",
      "Hawaii: 9.574341188706113\n",
      "Idaho: 21.85034009653321\n",
      "Illinois: 5.554983323593452\n",
      "Indiana: 3.113026237565192\n",
      "Iowa: 1.6678907264210026\n",
      "Kansas: 0.8089730487359398\n",
      "Kentucky: 6.196334905585877\n",
      "Louisiana: 16.345917444962673\n",
      "Maine: 2.5497098022031803\n",
      "Maryland: 0.6504682195738026\n",
      "Massachusetts: 3.4002650892105786\n",
      "Michigan: 3.733343180207894\n",
      "Minnesota: 0.37571527986869485\n",
      "Mississippi: 20.598127868977897\n",
      "Missouri: 22.30827703896972\n",
      "Montana: 39.50577431948338\n",
      "Nebraska: 3.3636438474372516\n",
      "Nevada: 23.904404983254842\n",
      "New Hampshire: 0.8069224522679712\n",
      "New Jersey: 2.5661272302711655\n",
      "New Mexico: 9.479962534072655\n",
      "New York: 3.0066468133381807\n",
      "North Carolina: 12.767525577783543\n",
      "North Dakota: 3.0417381465552227\n",
      "Ohio: 5.5066804342793105\n",
      "Oklahoma: 30.81073881162368\n",
      "Oregon: 16.590021135356178\n",
      "Pennsylvania: 2.9175168862622685\n",
      "Rhode Island: 5.730802425693178\n",
      "South Carolina: 14.388939905433684\n",
      "South Dakota: 7.700593490409234\n",
      "Tennessee: 23.662263935022118\n",
      "Texas: 15.463108607769579\n",
      "Utah: 11.99867983139115\n",
      "Vermont: 0.4165010315607908\n",
      "Virginia: 2.1483108602933476\n",
      "Washington: 11.8792469313792\n",
      "West Virginia: 16.431319864169595\n",
      "Wisconsin: 8.628813663860074\n",
      "Wyoming: 11.784479987172277\n"
     ]
    }
   ],
   "source": [
    "def train_confirmed_toy():\n",
    "    total_err = 0\n",
    "    for state in np.unique(train['Province_State']):\n",
    "        split = train.loc[train['Province_State'] == state]\n",
    "        split_train = split['Confirmed'].iloc[0:112].to_numpy()\n",
    "        split_test = split['Confirmed'].iloc[112:142].to_numpy()\n",
    "        model = AutoReg(split_train, lags = 3)\n",
    "        model_fit = model.fit()\n",
    "        predicted_cases = model_fit.predict(start = 112, end = 141, dynamic = False)\n",
    "        mape = MAPE(predicted_cases, split_test)\n",
    "        print(str(state) + \": \" + str(mape))\n",
    "        total_err += len(predicted_cases) * mape\n",
    "    return total_err/(30*50)\n",
    "\n",
    "total_mape = train_confirmed_toy()"
   ]
  },
  {
   "cell_type": "code",
   "execution_count": 18,
   "metadata": {
    "id": "XwFwn6e1hLwC",
    "outputId": "d0021cf8-59d7-44c0-93f4-0f7c47581919"
   },
   "outputs": [
    {
     "data": {
      "text/plain": [
       "11.31460870901712"
      ]
     },
     "execution_count": 18,
     "metadata": {},
     "output_type": "execute_result"
    }
   ],
   "source": [
    "total_mape"
   ]
  },
  {
   "cell_type": "markdown",
   "metadata": {
    "id": "FksdUX2YhLwG"
   },
   "source": [
    "### We see that differencing the data is important, lets focus on california"
   ]
  },
  {
   "cell_type": "code",
   "execution_count": 19,
   "metadata": {
    "id": "J89LG0tdhLwH",
    "outputId": "5e8f7586-28ff-4183-d455-ce53ef9bf0a0"
   },
   "outputs": [
    {
     "data": {
      "text/plain": [
       "[<matplotlib.lines.Line2D at 0x7f0d6949cb50>]"
      ]
     },
     "execution_count": 19,
     "metadata": {},
     "output_type": "execute_result"
    },
    {
     "data": {
      "image/png": "[encoded data removed]",
      "text/plain": [
       "<Figure size 432x288 with 1 Axes>"
      ]
     },
     "metadata": {
      "needs_background": "light"
     },
     "output_type": "display_data"
    }
   ],
   "source": [
    "plt.plot(cali['Confirmed'].values)"
   ]
  },
  {
   "cell_type": "code",
   "execution_count": 20,
   "metadata": {
    "id": "V_HUGPYZhLwK",
    "outputId": "546bb601-7c91-4fb4-f480-a7c39e228ac0"
   },
   "outputs": [
    {
     "data": {
      "text/plain": [
       "[<matplotlib.lines.Line2D at 0x7f0d69410b90>]"
      ]
     },
     "execution_count": 20,
     "metadata": {},
     "output_type": "execute_result"
    },
    {
     "data": {
      "image/png": "[encoded data removed]",
      "text/plain": [
       "<Figure size 432x288 with 1 Axes>"
      ]
     },
     "metadata": {
      "needs_background": "light"
     },
     "output_type": "display_data"
    }
   ],
   "source": [
    "current_cases = cali['Confirmed']\n",
    "plt.plot(current_cases)"
   ]
  },
  {
   "cell_type": "code",
   "execution_count": 21,
   "metadata": {
    "id": "Uy92uEaphLwN",
    "outputId": "81ec5446-1839-45d5-9a4f-4b011e010a75"
   },
   "outputs": [
    {
     "data": {
      "text/plain": [
       "[<matplotlib.lines.Line2D at 0x7f0d6940b9d0>]"
      ]
     },
     "execution_count": 21,
     "metadata": {},
     "output_type": "execute_result"
    },
    {
     "data": {
      "image/png": "[encoded data removed]",
      "text/plain": [
       "<Figure size 432x288 with 1 Axes>"
      ]
     },
     "metadata": {
      "needs_background": "light"
     },
     "output_type": "display_data"
    }
   ],
   "source": [
    "plt.plot(current_cases.diff())"
   ]
  },
  {
   "cell_type": "code",
   "execution_count": 22,
   "metadata": {
    "id": "l8Y0NGichLwQ",
    "outputId": "d28acd61-b5d9-4dc9-fc6b-010a29f003fb"
   },
   "outputs": [
    {
     "data": {
      "text/plain": [
       "[<matplotlib.lines.Line2D at 0x7f0d69459110>]"
      ]
     },
     "execution_count": 22,
     "metadata": {},
     "output_type": "execute_result"
    },
    {
     "data": {
      "image/png": "[encoded data removed]",
      "text/plain": [
       "<Figure size 432x288 with 1 Axes>"
      ]
     },
     "metadata": {
      "needs_background": "light"
     },
     "output_type": "display_data"
    }
   ],
   "source": [
    "plt.plot(current_cases.diff().diff())"
   ]
  },
  {
   "cell_type": "markdown",
   "metadata": {
    "id": "ECAVI9ikhLwU"
   },
   "source": [
    "So a difference order of two looks the most promising"
   ]
  },
  {
   "cell_type": "code",
   "execution_count": 23,
   "metadata": {
    "id": "k_LwWxV5hLwV",
    "outputId": "9bcf1f45-83b8-4bd2-bd2a-25c11d83635c"
   },
   "outputs": [
    {
     "data": {
      "text/plain": [
       "<matplotlib.axes._subplots.AxesSubplot at 0x7f0d6a5a0b50>"
      ]
     },
     "execution_count": 23,
     "metadata": {},
     "output_type": "execute_result"
    },
    {
     "data": {
      "image/png": "[encoded data removed]",
      "text/plain": [
       "<Figure size 432x288 with 1 Axes>"
      ]
     },
     "metadata": {
      "needs_background": "light"
     },
     "output_type": "display_data"
    }
   ],
   "source": [
    "pd.plotting.autocorrelation_plot(current_cases)"
   ]
  },
  {
   "cell_type": "markdown",
   "metadata": {
    "id": "C1IhfTtehLwa"
   },
   "source": [
    "There seems to be positive correlation for the first 50 lags"
   ]
  },
  {
   "cell_type": "code",
   "execution_count": 24,
   "metadata": {
    "id": "r_7WESDKhLwc"
   },
   "outputs": [],
   "source": [
    "import statsmodels.api as sm"
   ]
  },
  {
   "cell_type": "code",
   "execution_count": 25,
   "metadata": {
    "id": "T2lxI2LWhLwl",
    "outputId": "9ac497a6-870e-49c8-fc51-35672f96bbab",
    "scrolled": true
   },
   "outputs": [],
   "source": [
    "cali_train = cali['Confirmed'].iloc[:112]\n",
    "cali_test = cali['Confirmed'].iloc[112:]\n"
   ]
  },
  {
   "cell_type": "code",
   "execution_count": 26,
   "metadata": {
    "id": "nUrrv2iphLwp",
    "outputId": "ec607671-58d1-40da-e100-6e005127d187"
   },
   "outputs": [
    {
     "name": "stderr",
     "output_type": "stream",
     "text": [
      "/home/lala/.local/share/miniconda/envs/covid19/lib/python3.7/site-packages/statsmodels/regression/linear_model.py:1406: RuntimeWarning: invalid value encountered in sqrt\n",
      "  return rho, np.sqrt(sigmasq)\n"
     ]
    },
    {
     "data": {
      "image/png": "[encoded data removed]",
      "text/plain": [
       "<Figure size 1440x720 with 2 Axes>"
      ]
     },
     "metadata": {
      "needs_background": "light"
     },
     "output_type": "display_data"
    }
   ],
   "source": [
    "fig,ax = plt.subplots(2,1,figsize=(20,10))\n",
    "fig = sm.graphics.tsa.plot_acf(cali_train.diff().dropna(), lags=50, ax=ax[0])\n",
    "fig = sm.graphics.tsa.plot_pacf(cali_train.diff().dropna(), lags=50, ax=ax[1])\n",
    "plt.show()"
   ]
  },
  {
   "cell_type": "code",
   "execution_count": 27,
   "metadata": {
    "id": "7VQk8KpdhLws",
    "outputId": "85aec368-81a9-4bd8-a666-58bc401fa39a"
   },
   "outputs": [
    {
     "name": "stderr",
     "output_type": "stream",
     "text": [
      "/home/lala/.local/share/miniconda/envs/covid19/lib/python3.7/site-packages/statsmodels/base/model.py:548: HessianInversionWarning: Inverting hessian failed, no bse or cov_params available\n",
      "  'available', HessianInversionWarning)\n",
      "/home/lala/.local/share/miniconda/envs/covid19/lib/python3.7/site-packages/statsmodels/base/model.py:548: HessianInversionWarning: Inverting hessian failed, no bse or cov_params available\n",
      "  'available', HessianInversionWarning)\n",
      "/home/lala/.local/share/miniconda/envs/covid19/lib/python3.7/site-packages/statsmodels/base/model.py:568: ConvergenceWarning: Maximum Likelihood optimization failed to converge. Check mle_retvals\n",
      "  \"Check mle_retvals\", ConvergenceWarning)\n",
      "/home/lala/.local/share/miniconda/envs/covid19/lib/python3.7/site-packages/statsmodels/base/model.py:548: HessianInversionWarning: Inverting hessian failed, no bse or cov_params available\n",
      "  'available', HessianInversionWarning)\n",
      "/home/lala/.local/share/miniconda/envs/covid19/lib/python3.7/site-packages/statsmodels/base/model.py:568: ConvergenceWarning: Maximum Likelihood optimization failed to converge. Check mle_retvals\n",
      "  \"Check mle_retvals\", ConvergenceWarning)\n",
      "/home/lala/.local/share/miniconda/envs/covid19/lib/python3.7/site-packages/statsmodels/base/model.py:548: HessianInversionWarning: Inverting hessian failed, no bse or cov_params available\n",
      "  'available', HessianInversionWarning)\n",
      "/home/lala/.local/share/miniconda/envs/covid19/lib/python3.7/site-packages/statsmodels/base/model.py:548: HessianInversionWarning: Inverting hessian failed, no bse or cov_params available\n",
      "  'available', HessianInversionWarning)\n",
      "/home/lala/.local/share/miniconda/envs/covid19/lib/python3.7/site-packages/statsmodels/base/model.py:548: HessianInversionWarning: Inverting hessian failed, no bse or cov_params available\n",
      "  'available', HessianInversionWarning)\n",
      "/home/lala/.local/share/miniconda/envs/covid19/lib/python3.7/site-packages/statsmodels/base/model.py:548: HessianInversionWarning: Inverting hessian failed, no bse or cov_params available\n",
      "  'available', HessianInversionWarning)\n",
      "/home/lala/.local/share/miniconda/envs/covid19/lib/python3.7/site-packages/statsmodels/base/model.py:548: HessianInversionWarning: Inverting hessian failed, no bse or cov_params available\n",
      "  'available', HessianInversionWarning)\n",
      "/home/lala/.local/share/miniconda/envs/covid19/lib/python3.7/site-packages/statsmodels/base/model.py:548: HessianInversionWarning: Inverting hessian failed, no bse or cov_params available\n",
      "  'available', HessianInversionWarning)\n",
      "/home/lala/.local/share/miniconda/envs/covid19/lib/python3.7/site-packages/statsmodels/base/model.py:548: HessianInversionWarning: Inverting hessian failed, no bse or cov_params available\n",
      "  'available', HessianInversionWarning)\n",
      "/home/lala/.local/share/miniconda/envs/covid19/lib/python3.7/site-packages/statsmodels/base/model.py:548: HessianInversionWarning: Inverting hessian failed, no bse or cov_params available\n",
      "  'available', HessianInversionWarning)\n",
      "/home/lala/.local/share/miniconda/envs/covid19/lib/python3.7/site-packages/statsmodels/base/model.py:548: HessianInversionWarning: Inverting hessian failed, no bse or cov_params available\n",
      "  'available', HessianInversionWarning)\n",
      "/home/lala/.local/share/miniconda/envs/covid19/lib/python3.7/site-packages/statsmodels/base/model.py:568: ConvergenceWarning: Maximum Likelihood optimization failed to converge. Check mle_retvals\n",
      "  \"Check mle_retvals\", ConvergenceWarning)\n",
      "/home/lala/.local/share/miniconda/envs/covid19/lib/python3.7/site-packages/statsmodels/base/model.py:548: HessianInversionWarning: Inverting hessian failed, no bse or cov_params available\n",
      "  'available', HessianInversionWarning)\n",
      "/home/lala/.local/share/miniconda/envs/covid19/lib/python3.7/site-packages/statsmodels/base/model.py:568: ConvergenceWarning: Maximum Likelihood optimization failed to converge. Check mle_retvals\n",
      "  \"Check mle_retvals\", ConvergenceWarning)\n",
      "/home/lala/.local/share/miniconda/envs/covid19/lib/python3.7/site-packages/statsmodels/base/model.py:548: HessianInversionWarning: Inverting hessian failed, no bse or cov_params available\n",
      "  'available', HessianInversionWarning)\n",
      "/home/lala/.local/share/miniconda/envs/covid19/lib/python3.7/site-packages/statsmodels/base/model.py:568: ConvergenceWarning: Maximum Likelihood optimization failed to converge. Check mle_retvals\n",
      "  \"Check mle_retvals\", ConvergenceWarning)\n",
      "/home/lala/.local/share/miniconda/envs/covid19/lib/python3.7/site-packages/statsmodels/base/model.py:568: ConvergenceWarning: Maximum Likelihood optimization failed to converge. Check mle_retvals\n",
      "  \"Check mle_retvals\", ConvergenceWarning)\n",
      "/home/lala/.local/share/miniconda/envs/covid19/lib/python3.7/site-packages/statsmodels/tsa/tsatools.py:689: RuntimeWarning: invalid value encountered in true_divide\n",
      "  newparams = ((1-np.exp(-params))/(1+np.exp(-params))).copy()\n",
      "/home/lala/.local/share/miniconda/envs/covid19/lib/python3.7/site-packages/statsmodels/tsa/tsatools.py:690: RuntimeWarning: invalid value encountered in true_divide\n",
      "  tmp = ((1-np.exp(-params))/(1+np.exp(-params))).copy()\n",
      "/home/lala/.local/share/miniconda/envs/covid19/lib/python3.7/site-packages/statsmodels/base/model.py:548: HessianInversionWarning: Inverting hessian failed, no bse or cov_params available\n",
      "  'available', HessianInversionWarning)\n",
      "/home/lala/.local/share/miniconda/envs/covid19/lib/python3.7/site-packages/statsmodels/base/model.py:568: ConvergenceWarning: Maximum Likelihood optimization failed to converge. Check mle_retvals\n",
      "  \"Check mle_retvals\", ConvergenceWarning)\n",
      "/home/lala/.local/share/miniconda/envs/covid19/lib/python3.7/site-packages/statsmodels/base/model.py:548: HessianInversionWarning: Inverting hessian failed, no bse or cov_params available\n",
      "  'available', HessianInversionWarning)\n",
      "/home/lala/.local/share/miniconda/envs/covid19/lib/python3.7/site-packages/statsmodels/base/model.py:568: ConvergenceWarning: Maximum Likelihood optimization failed to converge. Check mle_retvals\n",
      "  \"Check mle_retvals\", ConvergenceWarning)\n",
      "/home/lala/.local/share/miniconda/envs/covid19/lib/python3.7/site-packages/statsmodels/base/model.py:548: HessianInversionWarning: Inverting hessian failed, no bse or cov_params available\n",
      "  'available', HessianInversionWarning)\n",
      "/home/lala/.local/share/miniconda/envs/covid19/lib/python3.7/site-packages/statsmodels/base/model.py:548: HessianInversionWarning: Inverting hessian failed, no bse or cov_params available\n",
      "  'available', HessianInversionWarning)\n",
      "/home/lala/.local/share/miniconda/envs/covid19/lib/python3.7/site-packages/statsmodels/base/model.py:548: HessianInversionWarning: Inverting hessian failed, no bse or cov_params available\n",
      "  'available', HessianInversionWarning)\n",
      "/home/lala/.local/share/miniconda/envs/covid19/lib/python3.7/site-packages/statsmodels/base/model.py:548: HessianInversionWarning: Inverting hessian failed, no bse or cov_params available\n",
      "  'available', HessianInversionWarning)\n",
      "/home/lala/.local/share/miniconda/envs/covid19/lib/python3.7/site-packages/statsmodels/base/model.py:568: ConvergenceWarning: Maximum Likelihood optimization failed to converge. Check mle_retvals\n",
      "  \"Check mle_retvals\", ConvergenceWarning)\n",
      "/home/lala/.local/share/miniconda/envs/covid19/lib/python3.7/site-packages/statsmodels/base/model.py:548: HessianInversionWarning: Inverting hessian failed, no bse or cov_params available\n",
      "  'available', HessianInversionWarning)\n",
      "/home/lala/.local/share/miniconda/envs/covid19/lib/python3.7/site-packages/statsmodels/base/model.py:568: ConvergenceWarning: Maximum Likelihood optimization failed to converge. Check mle_retvals\n",
      "  \"Check mle_retvals\", ConvergenceWarning)\n",
      "/home/lala/.local/share/miniconda/envs/covid19/lib/python3.7/site-packages/statsmodels/base/model.py:548: HessianInversionWarning: Inverting hessian failed, no bse or cov_params available\n",
      "  'available', HessianInversionWarning)\n",
      "/home/lala/.local/share/miniconda/envs/covid19/lib/python3.7/site-packages/statsmodels/base/model.py:548: HessianInversionWarning: Inverting hessian failed, no bse or cov_params available\n",
      "  'available', HessianInversionWarning)\n",
      "/home/lala/.local/share/miniconda/envs/covid19/lib/python3.7/site-packages/statsmodels/base/model.py:568: ConvergenceWarning: Maximum Likelihood optimization failed to converge. Check mle_retvals\n",
      "  \"Check mle_retvals\", ConvergenceWarning)\n"
     ]
    },
    {
     "name": "stderr",
     "output_type": "stream",
     "text": [
      "/home/lala/.local/share/miniconda/envs/covid19/lib/python3.7/site-packages/statsmodels/base/model.py:548: HessianInversionWarning: Inverting hessian failed, no bse or cov_params available\n",
      "  'available', HessianInversionWarning)\n",
      "/home/lala/.local/share/miniconda/envs/covid19/lib/python3.7/site-packages/statsmodels/base/model.py:568: ConvergenceWarning: Maximum Likelihood optimization failed to converge. Check mle_retvals\n",
      "  \"Check mle_retvals\", ConvergenceWarning)\n",
      "/home/lala/.local/share/miniconda/envs/covid19/lib/python3.7/site-packages/statsmodels/base/model.py:548: HessianInversionWarning: Inverting hessian failed, no bse or cov_params available\n",
      "  'available', HessianInversionWarning)\n",
      "/home/lala/.local/share/miniconda/envs/covid19/lib/python3.7/site-packages/statsmodels/base/model.py:568: ConvergenceWarning: Maximum Likelihood optimization failed to converge. Check mle_retvals\n",
      "  \"Check mle_retvals\", ConvergenceWarning)\n",
      "/home/lala/.local/share/miniconda/envs/covid19/lib/python3.7/site-packages/statsmodels/base/model.py:548: HessianInversionWarning: Inverting hessian failed, no bse or cov_params available\n",
      "  'available', HessianInversionWarning)\n",
      "/home/lala/.local/share/miniconda/envs/covid19/lib/python3.7/site-packages/statsmodels/base/model.py:548: HessianInversionWarning: Inverting hessian failed, no bse or cov_params available\n",
      "  'available', HessianInversionWarning)\n",
      "/home/lala/.local/share/miniconda/envs/covid19/lib/python3.7/site-packages/statsmodels/base/model.py:568: ConvergenceWarning: Maximum Likelihood optimization failed to converge. Check mle_retvals\n",
      "  \"Check mle_retvals\", ConvergenceWarning)\n",
      "/home/lala/.local/share/miniconda/envs/covid19/lib/python3.7/site-packages/statsmodels/base/model.py:548: HessianInversionWarning: Inverting hessian failed, no bse or cov_params available\n",
      "  'available', HessianInversionWarning)\n",
      "/home/lala/.local/share/miniconda/envs/covid19/lib/python3.7/site-packages/statsmodels/base/model.py:568: ConvergenceWarning: Maximum Likelihood optimization failed to converge. Check mle_retvals\n",
      "  \"Check mle_retvals\", ConvergenceWarning)\n",
      "/home/lala/.local/share/miniconda/envs/covid19/lib/python3.7/site-packages/statsmodels/base/model.py:548: HessianInversionWarning: Inverting hessian failed, no bse or cov_params available\n",
      "  'available', HessianInversionWarning)\n",
      "/home/lala/.local/share/miniconda/envs/covid19/lib/python3.7/site-packages/statsmodels/base/model.py:568: ConvergenceWarning: Maximum Likelihood optimization failed to converge. Check mle_retvals\n",
      "  \"Check mle_retvals\", ConvergenceWarning)\n",
      "/home/lala/.local/share/miniconda/envs/covid19/lib/python3.7/site-packages/statsmodels/base/model.py:548: HessianInversionWarning: Inverting hessian failed, no bse or cov_params available\n",
      "  'available', HessianInversionWarning)\n",
      "/home/lala/.local/share/miniconda/envs/covid19/lib/python3.7/site-packages/statsmodels/base/model.py:568: ConvergenceWarning: Maximum Likelihood optimization failed to converge. Check mle_retvals\n",
      "  \"Check mle_retvals\", ConvergenceWarning)\n",
      "/home/lala/.local/share/miniconda/envs/covid19/lib/python3.7/site-packages/statsmodels/base/model.py:548: HessianInversionWarning: Inverting hessian failed, no bse or cov_params available\n",
      "  'available', HessianInversionWarning)\n",
      "/home/lala/.local/share/miniconda/envs/covid19/lib/python3.7/site-packages/statsmodels/base/model.py:568: ConvergenceWarning: Maximum Likelihood optimization failed to converge. Check mle_retvals\n",
      "  \"Check mle_retvals\", ConvergenceWarning)\n",
      "/home/lala/.local/share/miniconda/envs/covid19/lib/python3.7/site-packages/statsmodels/base/model.py:548: HessianInversionWarning: Inverting hessian failed, no bse or cov_params available\n",
      "  'available', HessianInversionWarning)\n",
      "/home/lala/.local/share/miniconda/envs/covid19/lib/python3.7/site-packages/statsmodels/base/model.py:568: ConvergenceWarning: Maximum Likelihood optimization failed to converge. Check mle_retvals\n",
      "  \"Check mle_retvals\", ConvergenceWarning)\n",
      "/home/lala/.local/share/miniconda/envs/covid19/lib/python3.7/site-packages/statsmodels/base/model.py:548: HessianInversionWarning: Inverting hessian failed, no bse or cov_params available\n",
      "  'available', HessianInversionWarning)\n",
      "/home/lala/.local/share/miniconda/envs/covid19/lib/python3.7/site-packages/statsmodels/base/model.py:548: HessianInversionWarning: Inverting hessian failed, no bse or cov_params available\n",
      "  'available', HessianInversionWarning)\n",
      "/home/lala/.local/share/miniconda/envs/covid19/lib/python3.7/site-packages/statsmodels/base/model.py:568: ConvergenceWarning: Maximum Likelihood optimization failed to converge. Check mle_retvals\n",
      "  \"Check mle_retvals\", ConvergenceWarning)\n",
      "/home/lala/.local/share/miniconda/envs/covid19/lib/python3.7/site-packages/statsmodels/base/model.py:548: HessianInversionWarning: Inverting hessian failed, no bse or cov_params available\n",
      "  'available', HessianInversionWarning)\n",
      "/home/lala/.local/share/miniconda/envs/covid19/lib/python3.7/site-packages/statsmodels/base/model.py:568: ConvergenceWarning: Maximum Likelihood optimization failed to converge. Check mle_retvals\n",
      "  \"Check mle_retvals\", ConvergenceWarning)\n",
      "/home/lala/.local/share/miniconda/envs/covid19/lib/python3.7/site-packages/statsmodels/base/model.py:548: HessianInversionWarning: Inverting hessian failed, no bse or cov_params available\n",
      "  'available', HessianInversionWarning)\n",
      "/home/lala/.local/share/miniconda/envs/covid19/lib/python3.7/site-packages/statsmodels/base/model.py:548: HessianInversionWarning: Inverting hessian failed, no bse or cov_params available\n",
      "  'available', HessianInversionWarning)\n",
      "/home/lala/.local/share/miniconda/envs/covid19/lib/python3.7/site-packages/statsmodels/base/model.py:548: HessianInversionWarning: Inverting hessian failed, no bse or cov_params available\n",
      "  'available', HessianInversionWarning)\n",
      "/home/lala/.local/share/miniconda/envs/covid19/lib/python3.7/site-packages/statsmodels/base/model.py:568: ConvergenceWarning: Maximum Likelihood optimization failed to converge. Check mle_retvals\n",
      "  \"Check mle_retvals\", ConvergenceWarning)\n",
      "/home/lala/.local/share/miniconda/envs/covid19/lib/python3.7/site-packages/statsmodels/base/model.py:548: HessianInversionWarning: Inverting hessian failed, no bse or cov_params available\n",
      "  'available', HessianInversionWarning)\n",
      "/home/lala/.local/share/miniconda/envs/covid19/lib/python3.7/site-packages/statsmodels/base/model.py:568: ConvergenceWarning: Maximum Likelihood optimization failed to converge. Check mle_retvals\n",
      "  \"Check mle_retvals\", ConvergenceWarning)\n",
      "/home/lala/.local/share/miniconda/envs/covid19/lib/python3.7/site-packages/statsmodels/base/model.py:548: HessianInversionWarning: Inverting hessian failed, no bse or cov_params available\n",
      "  'available', HessianInversionWarning)\n",
      "/home/lala/.local/share/miniconda/envs/covid19/lib/python3.7/site-packages/statsmodels/base/model.py:568: ConvergenceWarning: Maximum Likelihood optimization failed to converge. Check mle_retvals\n",
      "  \"Check mle_retvals\", ConvergenceWarning)\n",
      "/home/lala/.local/share/miniconda/envs/covid19/lib/python3.7/site-packages/statsmodels/base/model.py:548: HessianInversionWarning: Inverting hessian failed, no bse or cov_params available\n",
      "  'available', HessianInversionWarning)\n",
      "/home/lala/.local/share/miniconda/envs/covid19/lib/python3.7/site-packages/statsmodels/base/model.py:568: ConvergenceWarning: Maximum Likelihood optimization failed to converge. Check mle_retvals\n",
      "  \"Check mle_retvals\", ConvergenceWarning)\n",
      "/home/lala/.local/share/miniconda/envs/covid19/lib/python3.7/site-packages/statsmodels/base/model.py:548: HessianInversionWarning: Inverting hessian failed, no bse or cov_params available\n",
      "  'available', HessianInversionWarning)\n",
      "/home/lala/.local/share/miniconda/envs/covid19/lib/python3.7/site-packages/statsmodels/base/model.py:548: HessianInversionWarning: Inverting hessian failed, no bse or cov_params available\n",
      "  'available', HessianInversionWarning)\n",
      "/home/lala/.local/share/miniconda/envs/covid19/lib/python3.7/site-packages/statsmodels/base/model.py:548: HessianInversionWarning: Inverting hessian failed, no bse or cov_params available\n",
      "  'available', HessianInversionWarning)\n",
      "/home/lala/.local/share/miniconda/envs/covid19/lib/python3.7/site-packages/statsmodels/base/model.py:548: HessianInversionWarning: Inverting hessian failed, no bse or cov_params available\n",
      "  'available', HessianInversionWarning)\n",
      "/home/lala/.local/share/miniconda/envs/covid19/lib/python3.7/site-packages/statsmodels/base/model.py:568: ConvergenceWarning: Maximum Likelihood optimization failed to converge. Check mle_retvals\n",
      "  \"Check mle_retvals\", ConvergenceWarning)\n"
     ]
    },
    {
     "name": "stderr",
     "output_type": "stream",
     "text": [
      "/home/lala/.local/share/miniconda/envs/covid19/lib/python3.7/site-packages/statsmodels/base/model.py:548: HessianInversionWarning: Inverting hessian failed, no bse or cov_params available\n",
      "  'available', HessianInversionWarning)\n",
      "/home/lala/.local/share/miniconda/envs/covid19/lib/python3.7/site-packages/statsmodels/base/model.py:568: ConvergenceWarning: Maximum Likelihood optimization failed to converge. Check mle_retvals\n",
      "  \"Check mle_retvals\", ConvergenceWarning)\n",
      "/home/lala/.local/share/miniconda/envs/covid19/lib/python3.7/site-packages/statsmodels/base/model.py:548: HessianInversionWarning: Inverting hessian failed, no bse or cov_params available\n",
      "  'available', HessianInversionWarning)\n",
      "/home/lala/.local/share/miniconda/envs/covid19/lib/python3.7/site-packages/statsmodels/base/model.py:568: ConvergenceWarning: Maximum Likelihood optimization failed to converge. Check mle_retvals\n",
      "  \"Check mle_retvals\", ConvergenceWarning)\n",
      "/home/lala/.local/share/miniconda/envs/covid19/lib/python3.7/site-packages/statsmodels/base/model.py:548: HessianInversionWarning: Inverting hessian failed, no bse or cov_params available\n",
      "  'available', HessianInversionWarning)\n",
      "/home/lala/.local/share/miniconda/envs/covid19/lib/python3.7/site-packages/statsmodels/base/model.py:568: ConvergenceWarning: Maximum Likelihood optimization failed to converge. Check mle_retvals\n",
      "  \"Check mle_retvals\", ConvergenceWarning)\n"
     ]
    },
    {
     "name": "stdout",
     "output_type": "stream",
     "text": [
      "ARMA(p,q) = (3, 2) is the best.\n"
     ]
    },
    {
     "name": "stderr",
     "output_type": "stream",
     "text": [
      "/home/lala/.local/share/miniconda/envs/covid19/lib/python3.7/site-packages/statsmodels/base/model.py:548: HessianInversionWarning: Inverting hessian failed, no bse or cov_params available\n",
      "  'available', HessianInversionWarning)\n",
      "/home/lala/.local/share/miniconda/envs/covid19/lib/python3.7/site-packages/statsmodels/base/model.py:568: ConvergenceWarning: Maximum Likelihood optimization failed to converge. Check mle_retvals\n",
      "  \"Check mle_retvals\", ConvergenceWarning)\n"
     ]
    }
   ],
   "source": [
    "resDiff = sm.tsa.arma_order_select_ic(cali_train, max_ar=7, max_ma=7, ic='bic', trend='c')\n",
    "print('ARMA(p,q) =',resDiff['bic_min_order'],'is the best.')"
   ]
  },
  {
   "cell_type": "markdown",
   "metadata": {
    "id": "kVToKXn1hLwx"
   },
   "source": [
    "Ok so we have p = 1, q = 1 so ARIMA(4, 1, 1)"
   ]
  },
  {
   "cell_type": "code",
   "execution_count": 28,
   "metadata": {
    "id": "LTKG71twhLwx"
   },
   "outputs": [],
   "source": [
    "from statsmodels.tsa.arima_model import ARIMA"
   ]
  },
  {
   "cell_type": "code",
   "execution_count": 29,
   "metadata": {
    "id": "7MComIomhLw1",
    "outputId": "920dc71e-5077-4685-88b8-a608d0007533"
   },
   "outputs": [
    {
     "name": "stdout",
     "output_type": "stream",
     "text": [
      "                               SARIMAX Results                                \n",
      "==============================================================================\n",
      "Dep. Variable:                      y   No. Observations:                  112\n",
      "Model:               SARIMAX(4, 1, 1)   Log Likelihood                -849.142\n",
      "Date:                Sun, 29 Nov 2020   AIC                           1710.285\n",
      "Time:                        17:24:36   BIC                           1726.322\n",
      "Sample:                             0   HQIC                          1716.786\n",
      "                                - 112                                         \n",
      "Covariance Type:                  opg                                         \n",
      "==============================================================================\n",
      "                 coef    std err          z      P>|z|      [0.025      0.975]\n",
      "------------------------------------------------------------------------------\n",
      "ar.L1          0.8671      0.181      4.784      0.000       0.512       1.222\n",
      "ar.L2          0.0069      0.100      0.069      0.945      -0.190       0.204\n",
      "ar.L3          0.0843      0.150      0.563      0.573      -0.209       0.378\n",
      "ar.L4          0.0479      0.150      0.319      0.750      -0.247       0.343\n",
      "ma.L1         -0.6618      0.172     -3.837      0.000      -1.000      -0.324\n",
      "sigma2      4.983e+05   5.27e+04      9.462      0.000    3.95e+05    6.02e+05\n",
      "===================================================================================\n",
      "Ljung-Box (Q):                       87.08   Jarque-Bera (JB):                42.70\n",
      "Prob(Q):                              0.00   Prob(JB):                         0.00\n",
      "Heteroskedasticity (H):             100.20   Skew:                            -0.62\n",
      "Prob(H) (two-sided):                  0.00   Kurtosis:                         5.84\n",
      "===================================================================================\n",
      "\n",
      "Warnings:\n",
      "[1] Covariance matrix calculated using the outer product of gradients (complex-step).\n"
     ]
    }
   ],
   "source": [
    "arima = sm.tsa.statespace.SARIMAX(cali_train.values,order=(4,1,1),seasonal_order=(0,0,0,0),\n",
    "                                 enforce_stationarity=False, enforce_invertibility=False,).fit()\n",
    "print(arima.summary())"
   ]
  },
  {
   "cell_type": "code",
   "execution_count": 30,
   "metadata": {
    "id": "RaR1lX1lhLw4",
    "scrolled": true
   },
   "outputs": [],
   "source": [
    "predicted = arima.forecast(30)"
   ]
  },
  {
   "cell_type": "code",
   "execution_count": 31,
   "metadata": {
    "id": "a7aojxEthLw6",
    "outputId": "e6394187-2bce-47d0-b263-b010410ea48e"
   },
   "outputs": [
    {
     "data": {
      "text/plain": [
       "array([179665.90788701, 182388.42367478, 185173.84662806, 187976.01159868,\n",
       "       190782.35156262, 193600.54149041, 196433.46178244, 199280.39134536,\n",
       "       202140.77000226, 205014.71770305, 207902.41177602, 210803.92501939,\n",
       "       213719.30506102, 216648.61440696, 219591.92222333, 222549.29642286,\n",
       "       225520.80392637, 228506.51206051, 231506.48871033, 234520.80210421,\n",
       "       237549.52075879, 240592.71350958, 243650.44952629, 246722.79831139,\n",
       "       249809.82969894, 252911.61385625, 256028.22128601, 259159.72282789,\n",
       "       262306.18966014, 265467.69330114])"
      ]
     },
     "execution_count": 31,
     "metadata": {},
     "output_type": "execute_result"
    }
   ],
   "source": [
    "predicted"
   ]
  },
  {
   "cell_type": "code",
   "execution_count": 32,
   "metadata": {
    "id": "Rnzlt9XShLw9",
    "outputId": "671eaf19-0128-4820-c7f9-84d9cfdde111"
   },
   "outputs": [
    {
     "data": {
      "text/plain": [
       "array([178467, 179497, 180505, 182203, 183656, 185053, 186107, 186923,\n",
       "       187523, 188737, 189443, 190794, 191721, 192654, 193537, 194005,\n",
       "       194920, 195557, 196280, 196899, 197895, 198103, 198414, 199273,\n",
       "       199459, 200139, 200658, 201287, 201661, 201835])"
      ]
     },
     "execution_count": 32,
     "metadata": {},
     "output_type": "execute_result"
    }
   ],
   "source": [
    "cali['Confirmed'].values[112:]"
   ]
  },
  {
   "cell_type": "code",
   "execution_count": 33,
   "metadata": {
    "id": "xfRYAHa-hLxD",
    "outputId": "4d165db5-ef04-475a-c607-bdd921804a2a",
    "scrolled": false
   },
   "outputs": [
    {
     "data": {
      "text/plain": [
       "[<matplotlib.lines.Line2D at 0x7f0d6810ed90>]"
      ]
     },
     "execution_count": 33,
     "metadata": {},
     "output_type": "execute_result"
    },
    {
     "data": {
      "image/png": "[encoded data removed]",
      "text/plain": [
       "<Figure size 432x288 with 1 Axes>"
      ]
     },
     "metadata": {
      "needs_background": "light"
     },
     "output_type": "display_data"
    }
   ],
   "source": [
    "plt.plot(predicted)\n",
    "plt.plot(cali['Confirmed'].values[112:])"
   ]
  },
  {
   "cell_type": "code",
   "execution_count": 34,
   "metadata": {
    "id": "RyRw9t4khLxG",
    "outputId": "76961e8c-601b-4d97-d22d-2e01dad3ee18",
    "scrolled": true
   },
   "outputs": [
    {
     "data": {
      "text/plain": [
       "14.823640040176167"
      ]
     },
     "execution_count": 34,
     "metadata": {},
     "output_type": "execute_result"
    }
   ],
   "source": [
    "MAPE(predicted, cali['Confirmed'].values[112:])"
   ]
  },
  {
   "cell_type": "markdown",
   "metadata": {
    "id": "LH8MCMpfhLxN"
   },
   "source": [
    "Welp, still not that great, the constant linear prediciton really doesn't reflect how the cases evolve (plateauing and stuff)"
   ]
  }
 ],
 "metadata": {
  "colab": {
   "name": "linear_models_ARIMA&AR.ipynb",
   "provenance": []
  },
  "kernelspec": {
   "display_name": "Python 3",
   "language": "python",
   "name": "python3"
  },
  "language_info": {
   "codemirror_mode": {
    "name": "ipython",
    "version": 3
   },
   "file_extension": ".py",
   "mimetype": "text/x-python",
   "name": "python",
   "nbconvert_exporter": "python",
   "pygments_lexer": "ipython3",
   "version": "3.7.9"
  }
 },
 "nbformat": 4,
 "nbformat_minor": 1
}
