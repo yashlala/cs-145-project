{
 "cells": [
  {
   "cell_type": "code",
   "execution_count": 71,
   "metadata": {},
   "outputs": [],
   "source": [
    "import matplotlib.pyplot as plt\n",
    "import pandas as pd\n",
    "import numpy as np\n",
    "import random as rand\n",
    "from sklearn import preprocessing\n",
    "from keras.models import Sequential\n",
    "from keras.layers import LSTM\n",
    "from keras.layers import Dense"
   ]
  },
  {
   "cell_type": "code",
   "execution_count": 72,
   "metadata": {},
   "outputs": [
    {
     "data": {
      "text/html": [
       "<div>\n",
       "<style scoped>\n",
       "    .dataframe tbody tr th:only-of-type {\n",
       "        vertical-align: middle;\n",
       "    }\n",
       "\n",
       "    .dataframe tbody tr th {\n",
       "        vertical-align: top;\n",
       "    }\n",
       "\n",
       "    .dataframe thead th {\n",
       "        text-align: right;\n",
       "    }\n",
       "</style>\n",
       "<table border=\"1\" class=\"dataframe\">\n",
       "  <thead>\n",
       "    <tr style=\"text-align: right;\">\n",
       "      <th></th>\n",
       "      <th>ID</th>\n",
       "      <th>Province_State</th>\n",
       "      <th>Date</th>\n",
       "      <th>Confirmed</th>\n",
       "      <th>Deaths</th>\n",
       "      <th>Recovered</th>\n",
       "      <th>Active</th>\n",
       "      <th>Incident_Rate</th>\n",
       "      <th>People_Tested</th>\n",
       "      <th>People_Hospitalized</th>\n",
       "      <th>Mortality_Rate</th>\n",
       "      <th>Testing_Rate</th>\n",
       "      <th>Hospitalization_Rate</th>\n",
       "    </tr>\n",
       "  </thead>\n",
       "  <tbody>\n",
       "    <tr>\n",
       "      <th>0</th>\n",
       "      <td>0</td>\n",
       "      <td>Alabama</td>\n",
       "      <td>04-12-2020</td>\n",
       "      <td>3563</td>\n",
       "      <td>93</td>\n",
       "      <td>NaN</td>\n",
       "      <td>3470.0</td>\n",
       "      <td>75.988020</td>\n",
       "      <td>21583.0</td>\n",
       "      <td>437.0</td>\n",
       "      <td>2.610160</td>\n",
       "      <td>460.300152</td>\n",
       "      <td>12.264945</td>\n",
       "    </tr>\n",
       "    <tr>\n",
       "      <th>1</th>\n",
       "      <td>1</td>\n",
       "      <td>Alaska</td>\n",
       "      <td>04-12-2020</td>\n",
       "      <td>272</td>\n",
       "      <td>8</td>\n",
       "      <td>66.0</td>\n",
       "      <td>264.0</td>\n",
       "      <td>45.504049</td>\n",
       "      <td>8038.0</td>\n",
       "      <td>31.0</td>\n",
       "      <td>2.941176</td>\n",
       "      <td>1344.711576</td>\n",
       "      <td>11.397059</td>\n",
       "    </tr>\n",
       "    <tr>\n",
       "      <th>2</th>\n",
       "      <td>2</td>\n",
       "      <td>Arizona</td>\n",
       "      <td>04-12-2020</td>\n",
       "      <td>3542</td>\n",
       "      <td>115</td>\n",
       "      <td>NaN</td>\n",
       "      <td>3427.0</td>\n",
       "      <td>48.662422</td>\n",
       "      <td>42109.0</td>\n",
       "      <td>NaN</td>\n",
       "      <td>3.246753</td>\n",
       "      <td>578.522286</td>\n",
       "      <td>NaN</td>\n",
       "    </tr>\n",
       "    <tr>\n",
       "      <th>3</th>\n",
       "      <td>3</td>\n",
       "      <td>Arkansas</td>\n",
       "      <td>04-12-2020</td>\n",
       "      <td>1280</td>\n",
       "      <td>27</td>\n",
       "      <td>367.0</td>\n",
       "      <td>1253.0</td>\n",
       "      <td>49.439423</td>\n",
       "      <td>19722.0</td>\n",
       "      <td>130.0</td>\n",
       "      <td>2.109375</td>\n",
       "      <td>761.753354</td>\n",
       "      <td>10.156250</td>\n",
       "    </tr>\n",
       "    <tr>\n",
       "      <th>4</th>\n",
       "      <td>4</td>\n",
       "      <td>California</td>\n",
       "      <td>04-12-2020</td>\n",
       "      <td>22795</td>\n",
       "      <td>640</td>\n",
       "      <td>NaN</td>\n",
       "      <td>22155.0</td>\n",
       "      <td>58.137726</td>\n",
       "      <td>190328.0</td>\n",
       "      <td>5234.0</td>\n",
       "      <td>2.812020</td>\n",
       "      <td>485.423869</td>\n",
       "      <td>22.961176</td>\n",
       "    </tr>\n",
       "  </tbody>\n",
       "</table>\n",
       "</div>"
      ],
      "text/plain": [
       "   ID Province_State        Date  Confirmed  Deaths  Recovered   Active  \\\n",
       "0   0        Alabama  04-12-2020       3563      93        NaN   3470.0   \n",
       "1   1         Alaska  04-12-2020        272       8       66.0    264.0   \n",
       "2   2        Arizona  04-12-2020       3542     115        NaN   3427.0   \n",
       "3   3       Arkansas  04-12-2020       1280      27      367.0   1253.0   \n",
       "4   4     California  04-12-2020      22795     640        NaN  22155.0   \n",
       "\n",
       "   Incident_Rate  People_Tested  People_Hospitalized  Mortality_Rate  \\\n",
       "0      75.988020        21583.0                437.0        2.610160   \n",
       "1      45.504049         8038.0                 31.0        2.941176   \n",
       "2      48.662422        42109.0                  NaN        3.246753   \n",
       "3      49.439423        19722.0                130.0        2.109375   \n",
       "4      58.137726       190328.0               5234.0        2.812020   \n",
       "\n",
       "   Testing_Rate  Hospitalization_Rate  \n",
       "0    460.300152             12.264945  \n",
       "1   1344.711576             11.397059  \n",
       "2    578.522286                   NaN  \n",
       "3    761.753354             10.156250  \n",
       "4    485.423869             22.961176  "
      ]
     },
     "execution_count": 72,
     "metadata": {},
     "output_type": "execute_result"
    }
   ],
   "source": [
    "df = pd.read_csv('data/train.csv')\n",
    "df.head()"
   ]
  },
  {
   "cell_type": "code",
   "execution_count": 73,
   "metadata": {},
   "outputs": [
    {
     "data": {
      "text/plain": [
       "ID                        int64\n",
       "Province_State           object\n",
       "Date                     object\n",
       "Confirmed                 int64\n",
       "Deaths                    int64\n",
       "Recovered               float64\n",
       "Active                  float64\n",
       "Incident_Rate           float64\n",
       "People_Tested           float64\n",
       "People_Hospitalized     float64\n",
       "Mortality_Rate          float64\n",
       "Testing_Rate            float64\n",
       "Hospitalization_Rate    float64\n",
       "dtype: object"
      ]
     },
     "execution_count": 73,
     "metadata": {},
     "output_type": "execute_result"
    }
   ],
   "source": [
    "df.dtypes"
   ]
  },
  {
   "cell_type": "code",
   "execution_count": 74,
   "metadata": {},
   "outputs": [
    {
     "data": {
      "text/html": [
       "<div>\n",
       "<style scoped>\n",
       "    .dataframe tbody tr th:only-of-type {\n",
       "        vertical-align: middle;\n",
       "    }\n",
       "\n",
       "    .dataframe tbody tr th {\n",
       "        vertical-align: top;\n",
       "    }\n",
       "\n",
       "    .dataframe thead th {\n",
       "        text-align: right;\n",
       "    }\n",
       "</style>\n",
       "<table border=\"1\" class=\"dataframe\">\n",
       "  <thead>\n",
       "    <tr style=\"text-align: right;\">\n",
       "      <th></th>\n",
       "      <th>ID</th>\n",
       "      <th>Confirmed</th>\n",
       "      <th>Deaths</th>\n",
       "      <th>Recovered</th>\n",
       "      <th>Active</th>\n",
       "      <th>Incident_Rate</th>\n",
       "      <th>People_Tested</th>\n",
       "      <th>People_Hospitalized</th>\n",
       "      <th>Mortality_Rate</th>\n",
       "      <th>Testing_Rate</th>\n",
       "      <th>Hospitalization_Rate</th>\n",
       "    </tr>\n",
       "  </thead>\n",
       "  <tbody>\n",
       "    <tr>\n",
       "      <th>count</th>\n",
       "      <td>7100.000000</td>\n",
       "      <td>7100.000000</td>\n",
       "      <td>7100.000000</td>\n",
       "      <td>5771.000000</td>\n",
       "      <td>7100.000000</td>\n",
       "      <td>7100.000000</td>\n",
       "      <td>7.100000e+03</td>\n",
       "      <td>5047.000000</td>\n",
       "      <td>7100.000000</td>\n",
       "      <td>7100.000000</td>\n",
       "      <td>5047.000000</td>\n",
       "    </tr>\n",
       "    <tr>\n",
       "      <th>mean</th>\n",
       "      <td>3549.500000</td>\n",
       "      <td>56374.339577</td>\n",
       "      <td>2323.883099</td>\n",
       "      <td>20422.274649</td>\n",
       "      <td>37635.120986</td>\n",
       "      <td>747.273790</td>\n",
       "      <td>6.427069e+05</td>\n",
       "      <td>6250.044185</td>\n",
       "      <td>3.653231</td>\n",
       "      <td>9666.099116</td>\n",
       "      <td>12.197144</td>\n",
       "    </tr>\n",
       "    <tr>\n",
       "      <th>std</th>\n",
       "      <td>2049.737788</td>\n",
       "      <td>95058.665054</td>\n",
       "      <td>4742.274729</td>\n",
       "      <td>39262.213465</td>\n",
       "      <td>79067.101832</td>\n",
       "      <td>637.397470</td>\n",
       "      <td>1.127555e+06</td>\n",
       "      <td>13880.694435</td>\n",
       "      <td>2.074042</td>\n",
       "      <td>7779.560336</td>\n",
       "      <td>5.255183</td>\n",
       "    </tr>\n",
       "    <tr>\n",
       "      <th>min</th>\n",
       "      <td>0.000000</td>\n",
       "      <td>270.000000</td>\n",
       "      <td>0.000000</td>\n",
       "      <td>0.000000</td>\n",
       "      <td>-989.000000</td>\n",
       "      <td>32.771004</td>\n",
       "      <td>5.459000e+03</td>\n",
       "      <td>10.000000</td>\n",
       "      <td>0.000000</td>\n",
       "      <td>460.300152</td>\n",
       "      <td>2.302896</td>\n",
       "    </tr>\n",
       "    <tr>\n",
       "      <th>25%</th>\n",
       "      <td>1774.750000</td>\n",
       "      <td>6097.500000</td>\n",
       "      <td>153.000000</td>\n",
       "      <td>1614.500000</td>\n",
       "      <td>2849.000000</td>\n",
       "      <td>224.815702</td>\n",
       "      <td>1.000775e+05</td>\n",
       "      <td>595.000000</td>\n",
       "      <td>1.928925</td>\n",
       "      <td>3379.288445</td>\n",
       "      <td>8.387037</td>\n",
       "    </tr>\n",
       "    <tr>\n",
       "      <th>50%</th>\n",
       "      <td>3549.500000</td>\n",
       "      <td>22892.000000</td>\n",
       "      <td>681.000000</td>\n",
       "      <td>5881.000000</td>\n",
       "      <td>10409.000000</td>\n",
       "      <td>540.836745</td>\n",
       "      <td>2.643235e+05</td>\n",
       "      <td>2068.000000</td>\n",
       "      <td>3.362027</td>\n",
       "      <td>7842.820591</td>\n",
       "      <td>11.351161</td>\n",
       "    </tr>\n",
       "    <tr>\n",
       "      <th>75%</th>\n",
       "      <td>5324.250000</td>\n",
       "      <td>62959.250000</td>\n",
       "      <td>2334.000000</td>\n",
       "      <td>26103.000000</td>\n",
       "      <td>32106.500000</td>\n",
       "      <td>1126.282666</td>\n",
       "      <td>7.048395e+05</td>\n",
       "      <td>6134.500000</td>\n",
       "      <td>4.797564</td>\n",
       "      <td>14127.521137</td>\n",
       "      <td>15.396088</td>\n",
       "    </tr>\n",
       "    <tr>\n",
       "      <th>max</th>\n",
       "      <td>7099.000000</td>\n",
       "      <td>712475.000000</td>\n",
       "      <td>32957.000000</td>\n",
       "      <td>507499.000000</td>\n",
       "      <td>699453.000000</td>\n",
       "      <td>3187.773001</td>\n",
       "      <td>1.137330e+07</td>\n",
       "      <td>89995.000000</td>\n",
       "      <td>9.741481</td>\n",
       "      <td>49502.860687</td>\n",
       "      <td>38.501190</td>\n",
       "    </tr>\n",
       "  </tbody>\n",
       "</table>\n",
       "</div>"
      ],
      "text/plain": [
       "                ID      Confirmed        Deaths      Recovered         Active  \\\n",
       "count  7100.000000    7100.000000   7100.000000    5771.000000    7100.000000   \n",
       "mean   3549.500000   56374.339577   2323.883099   20422.274649   37635.120986   \n",
       "std    2049.737788   95058.665054   4742.274729   39262.213465   79067.101832   \n",
       "min       0.000000     270.000000      0.000000       0.000000    -989.000000   \n",
       "25%    1774.750000    6097.500000    153.000000    1614.500000    2849.000000   \n",
       "50%    3549.500000   22892.000000    681.000000    5881.000000   10409.000000   \n",
       "75%    5324.250000   62959.250000   2334.000000   26103.000000   32106.500000   \n",
       "max    7099.000000  712475.000000  32957.000000  507499.000000  699453.000000   \n",
       "\n",
       "       Incident_Rate  People_Tested  People_Hospitalized  Mortality_Rate  \\\n",
       "count    7100.000000   7.100000e+03          5047.000000     7100.000000   \n",
       "mean      747.273790   6.427069e+05          6250.044185        3.653231   \n",
       "std       637.397470   1.127555e+06         13880.694435        2.074042   \n",
       "min        32.771004   5.459000e+03            10.000000        0.000000   \n",
       "25%       224.815702   1.000775e+05           595.000000        1.928925   \n",
       "50%       540.836745   2.643235e+05          2068.000000        3.362027   \n",
       "75%      1126.282666   7.048395e+05          6134.500000        4.797564   \n",
       "max      3187.773001   1.137330e+07         89995.000000        9.741481   \n",
       "\n",
       "       Testing_Rate  Hospitalization_Rate  \n",
       "count   7100.000000           5047.000000  \n",
       "mean    9666.099116             12.197144  \n",
       "std     7779.560336              5.255183  \n",
       "min      460.300152              2.302896  \n",
       "25%     3379.288445              8.387037  \n",
       "50%     7842.820591             11.351161  \n",
       "75%    14127.521137             15.396088  \n",
       "max    49502.860687             38.501190  "
      ]
     },
     "execution_count": 74,
     "metadata": {},
     "output_type": "execute_result"
    }
   ],
   "source": [
    "df.describe()\n",
    "# 7100 samples"
   ]
  },
  {
   "cell_type": "code",
   "execution_count": 75,
   "metadata": {},
   "outputs": [
    {
     "data": {
      "text/plain": [
       "['Confirmed',\n",
       " 'Deaths',\n",
       " 'Recovered',\n",
       " 'Active',\n",
       " 'Incident_Rate',\n",
       " 'People_Tested',\n",
       " 'People_Hospitalized',\n",
       " 'Mortality_Rate',\n",
       " 'Testing_Rate',\n",
       " 'Hospitalization_Rate']"
      ]
     },
     "execution_count": 75,
     "metadata": {},
     "output_type": "execute_result"
    }
   ],
   "source": [
    "cat = list(df.columns)\n",
    "# numerical data columns\n",
    "cat_num = cat[3:]\n",
    "cat_num"
   ]
  },
  {
   "cell_type": "code",
   "execution_count": 76,
   "metadata": {},
   "outputs": [
    {
     "data": {
      "text/plain": [
       "ID                         0\n",
       "Province_State             0\n",
       "Date                       0\n",
       "Confirmed                  0\n",
       "Deaths                     0\n",
       "Recovered               1329\n",
       "Active                     0\n",
       "Incident_Rate              0\n",
       "People_Tested              0\n",
       "People_Hospitalized     2053\n",
       "Mortality_Rate             0\n",
       "Testing_Rate               0\n",
       "Hospitalization_Rate    2053\n",
       "dtype: int64"
      ]
     },
     "execution_count": 76,
     "metadata": {},
     "output_type": "execute_result"
    }
   ],
   "source": [
    "df.isnull().sum()"
   ]
  },
  {
   "cell_type": "code",
   "execution_count": 77,
   "metadata": {},
   "outputs": [
    {
     "data": {
      "text/html": [
       "<div>\n",
       "<style scoped>\n",
       "    .dataframe tbody tr th:only-of-type {\n",
       "        vertical-align: middle;\n",
       "    }\n",
       "\n",
       "    .dataframe tbody tr th {\n",
       "        vertical-align: top;\n",
       "    }\n",
       "\n",
       "    .dataframe thead th {\n",
       "        text-align: right;\n",
       "    }\n",
       "</style>\n",
       "<table border=\"1\" class=\"dataframe\">\n",
       "  <thead>\n",
       "    <tr style=\"text-align: right;\">\n",
       "      <th></th>\n",
       "      <th>ID</th>\n",
       "      <th>Province_State</th>\n",
       "      <th>Date</th>\n",
       "      <th>Confirmed</th>\n",
       "      <th>Deaths</th>\n",
       "      <th>Recovered</th>\n",
       "      <th>Active</th>\n",
       "      <th>Incident_Rate</th>\n",
       "      <th>People_Tested</th>\n",
       "      <th>People_Hospitalized</th>\n",
       "      <th>Mortality_Rate</th>\n",
       "      <th>Testing_Rate</th>\n",
       "      <th>Hospitalization_Rate</th>\n",
       "    </tr>\n",
       "  </thead>\n",
       "  <tbody>\n",
       "    <tr>\n",
       "      <th>0</th>\n",
       "      <td>0</td>\n",
       "      <td>Alabama</td>\n",
       "      <td>2020-04-12</td>\n",
       "      <td>-0.044806</td>\n",
       "      <td>-0.068071</td>\n",
       "      <td>0.004327</td>\n",
       "      <td>-0.026859</td>\n",
       "      <td>-0.265734</td>\n",
       "      <td>-0.410296</td>\n",
       "      <td>-0.003655</td>\n",
       "      <td>-0.114892</td>\n",
       "      <td>-1.296417</td>\n",
       "      <td>0.142857</td>\n",
       "    </tr>\n",
       "    <tr>\n",
       "      <th>1</th>\n",
       "      <td>50</td>\n",
       "      <td>Alabama</td>\n",
       "      <td>2020-04-13</td>\n",
       "      <td>-0.044625</td>\n",
       "      <td>-0.067609</td>\n",
       "      <td>0.004327</td>\n",
       "      <td>-0.026665</td>\n",
       "      <td>-0.264615</td>\n",
       "      <td>-0.402261</td>\n",
       "      <td>-0.003638</td>\n",
       "      <td>-0.084346</td>\n",
       "      <td>-1.269854</td>\n",
       "      <td>0.142857</td>\n",
       "    </tr>\n",
       "    <tr>\n",
       "      <th>2</th>\n",
       "      <td>100</td>\n",
       "      <td>Alabama</td>\n",
       "      <td>2020-04-14</td>\n",
       "      <td>-0.044395</td>\n",
       "      <td>-0.066455</td>\n",
       "      <td>0.004327</td>\n",
       "      <td>-0.026424</td>\n",
       "      <td>-0.263182</td>\n",
       "      <td>-0.398100</td>\n",
       "      <td>-0.003608</td>\n",
       "      <td>0.088281</td>\n",
       "      <td>-1.256099</td>\n",
       "      <td>0.142857</td>\n",
       "    </tr>\n",
       "    <tr>\n",
       "      <th>3</th>\n",
       "      <td>150</td>\n",
       "      <td>Alabama</td>\n",
       "      <td>2020-04-15</td>\n",
       "      <td>-0.044266</td>\n",
       "      <td>-0.066148</td>\n",
       "      <td>0.004327</td>\n",
       "      <td>-0.026285</td>\n",
       "      <td>-0.262383</td>\n",
       "      <td>-0.397085</td>\n",
       "      <td>-0.003581</td>\n",
       "      <td>0.097055</td>\n",
       "      <td>-1.252743</td>\n",
       "      <td>0.142857</td>\n",
       "    </tr>\n",
       "    <tr>\n",
       "      <th>4</th>\n",
       "      <td>200</td>\n",
       "      <td>Alabama</td>\n",
       "      <td>2020-04-16</td>\n",
       "      <td>-0.043982</td>\n",
       "      <td>-0.064994</td>\n",
       "      <td>0.004327</td>\n",
       "      <td>-0.025984</td>\n",
       "      <td>-0.260616</td>\n",
       "      <td>-0.394638</td>\n",
       "      <td>-0.003557</td>\n",
       "      <td>0.219737</td>\n",
       "      <td>-1.244654</td>\n",
       "      <td>0.142857</td>\n",
       "    </tr>\n",
       "    <tr>\n",
       "      <th>...</th>\n",
       "      <td>...</td>\n",
       "      <td>...</td>\n",
       "      <td>...</td>\n",
       "      <td>...</td>\n",
       "      <td>...</td>\n",
       "      <td>...</td>\n",
       "      <td>...</td>\n",
       "      <td>...</td>\n",
       "      <td>...</td>\n",
       "      <td>...</td>\n",
       "      <td>...</td>\n",
       "      <td>...</td>\n",
       "      <td>...</td>\n",
       "    </tr>\n",
       "    <tr>\n",
       "      <th>7095</th>\n",
       "      <td>6899</td>\n",
       "      <td>Wyoming</td>\n",
       "      <td>2020-08-27</td>\n",
       "      <td>2.975485</td>\n",
       "      <td>5.454874</td>\n",
       "      <td>2.484224</td>\n",
       "      <td>6.360776</td>\n",
       "      <td>2.133801</td>\n",
       "      <td>9.279846</td>\n",
       "      <td>0.735571</td>\n",
       "      <td>-0.943870</td>\n",
       "      <td>3.561100</td>\n",
       "      <td>0.142857</td>\n",
       "    </tr>\n",
       "    <tr>\n",
       "      <th>7096</th>\n",
       "      <td>6949</td>\n",
       "      <td>Wyoming</td>\n",
       "      <td>2020-08-28</td>\n",
       "      <td>3.074219</td>\n",
       "      <td>5.454874</td>\n",
       "      <td>2.519914</td>\n",
       "      <td>7.475375</td>\n",
       "      <td>2.205223</td>\n",
       "      <td>9.441479</td>\n",
       "      <td>-0.095153</td>\n",
       "      <td>-1.022567</td>\n",
       "      <td>3.623652</td>\n",
       "      <td>0.142857</td>\n",
       "    </tr>\n",
       "    <tr>\n",
       "      <th>7097</th>\n",
       "      <td>6999</td>\n",
       "      <td>Wyoming</td>\n",
       "      <td>2020-08-29</td>\n",
       "      <td>3.062935</td>\n",
       "      <td>5.454874</td>\n",
       "      <td>2.561095</td>\n",
       "      <td>6.512767</td>\n",
       "      <td>2.197060</td>\n",
       "      <td>9.446300</td>\n",
       "      <td>-0.095153</td>\n",
       "      <td>-1.013720</td>\n",
       "      <td>3.625518</td>\n",
       "      <td>0.142857</td>\n",
       "    </tr>\n",
       "    <tr>\n",
       "      <th>7098</th>\n",
       "      <td>7049</td>\n",
       "      <td>Wyoming</td>\n",
       "      <td>2020-08-30</td>\n",
       "      <td>3.110891</td>\n",
       "      <td>5.454874</td>\n",
       "      <td>2.588550</td>\n",
       "      <td>6.867412</td>\n",
       "      <td>2.231751</td>\n",
       "      <td>9.454566</td>\n",
       "      <td>-0.095153</td>\n",
       "      <td>-1.051064</td>\n",
       "      <td>3.628716</td>\n",
       "      <td>0.142857</td>\n",
       "    </tr>\n",
       "    <tr>\n",
       "      <th>7099</th>\n",
       "      <td>7099</td>\n",
       "      <td>Wyoming</td>\n",
       "      <td>2020-08-31</td>\n",
       "      <td>3.140512</td>\n",
       "      <td>5.454874</td>\n",
       "      <td>2.650322</td>\n",
       "      <td>6.259449</td>\n",
       "      <td>2.253178</td>\n",
       "      <td>9.679567</td>\n",
       "      <td>-0.095153</td>\n",
       "      <td>-1.073800</td>\n",
       "      <td>3.715791</td>\n",
       "      <td>0.142857</td>\n",
       "    </tr>\n",
       "  </tbody>\n",
       "</table>\n",
       "<p>7100 rows × 13 columns</p>\n",
       "</div>"
      ],
      "text/plain": [
       "        ID Province_State       Date  Confirmed    Deaths  Recovered  \\\n",
       "0        0        Alabama 2020-04-12  -0.044806 -0.068071   0.004327   \n",
       "1       50        Alabama 2020-04-13  -0.044625 -0.067609   0.004327   \n",
       "2      100        Alabama 2020-04-14  -0.044395 -0.066455   0.004327   \n",
       "3      150        Alabama 2020-04-15  -0.044266 -0.066148   0.004327   \n",
       "4      200        Alabama 2020-04-16  -0.043982 -0.064994   0.004327   \n",
       "...    ...            ...        ...        ...       ...        ...   \n",
       "7095  6899        Wyoming 2020-08-27   2.975485  5.454874   2.484224   \n",
       "7096  6949        Wyoming 2020-08-28   3.074219  5.454874   2.519914   \n",
       "7097  6999        Wyoming 2020-08-29   3.062935  5.454874   2.561095   \n",
       "7098  7049        Wyoming 2020-08-30   3.110891  5.454874   2.588550   \n",
       "7099  7099        Wyoming 2020-08-31   3.140512  5.454874   2.650322   \n",
       "\n",
       "        Active  Incident_Rate  People_Tested  People_Hospitalized  \\\n",
       "0    -0.026859      -0.265734      -0.410296            -0.003655   \n",
       "1    -0.026665      -0.264615      -0.402261            -0.003638   \n",
       "2    -0.026424      -0.263182      -0.398100            -0.003608   \n",
       "3    -0.026285      -0.262383      -0.397085            -0.003581   \n",
       "4    -0.025984      -0.260616      -0.394638            -0.003557   \n",
       "...        ...            ...            ...                  ...   \n",
       "7095  6.360776       2.133801       9.279846             0.735571   \n",
       "7096  7.475375       2.205223       9.441479            -0.095153   \n",
       "7097  6.512767       2.197060       9.446300            -0.095153   \n",
       "7098  6.867412       2.231751       9.454566            -0.095153   \n",
       "7099  6.259449       2.253178       9.679567            -0.095153   \n",
       "\n",
       "      Mortality_Rate  Testing_Rate  Hospitalization_Rate  \n",
       "0          -0.114892     -1.296417              0.142857  \n",
       "1          -0.084346     -1.269854              0.142857  \n",
       "2           0.088281     -1.256099              0.142857  \n",
       "3           0.097055     -1.252743              0.142857  \n",
       "4           0.219737     -1.244654              0.142857  \n",
       "...              ...           ...                   ...  \n",
       "7095       -0.943870      3.561100              0.142857  \n",
       "7096       -1.022567      3.623652              0.142857  \n",
       "7097       -1.013720      3.625518              0.142857  \n",
       "7098       -1.051064      3.628716              0.142857  \n",
       "7099       -1.073800      3.715791              0.142857  \n",
       "\n",
       "[7100 rows x 13 columns]"
      ]
     },
     "execution_count": 77,
     "metadata": {},
     "output_type": "execute_result"
    }
   ],
   "source": [
    "# Change from string type to datetime\n",
    "df['Date'] = pd.to_datetime(df['Date'])\n",
    "# group data by category for cleaning\n",
    "grouped = df.groupby('Province_State')\n",
    "df_clean = pd.DataFrame()\n",
    "scaler = preprocessing.StandardScaler()\n",
    "\n",
    "\n",
    "for name, group in grouped:\n",
    "    # drop column if more than 70% of data is NaN\n",
    "    group.dropna(axis=1, thresh=.7 * len(group.index))\n",
    "    for cat in cat_num:\n",
    "        # impute using column median\n",
    "        group[cat].fillna(group[cat].median(), inplace=True)\n",
    "        # Standard Scale numeric columns (State-wise)\n",
    "        mean = group[cat].mean()\n",
    "        var = group[cat].var()\n",
    "        group[cat] = group[cat].apply(lambda x : (x - mean)/var)\n",
    "    df_clean = pd.concat([df_clean, group], ignore_index=True)\n",
    "\n",
    "# # Standard Scale all numeric columns (GLOBALLY)\n",
    "df_clean[df_clean.select_dtypes('number').columns[1:]] = scaler.fit_transform(df_clean[df_clean.select_dtypes('number').columns[1:]])\n",
    "# cleaned df\n",
    "df_clean\n",
    "\n"
   ]
  },
  {
   "cell_type": "code",
   "execution_count": 78,
   "metadata": {},
   "outputs": [],
   "source": [
    "def MAPE(predicted, actual):\n",
    "    assert len(predicted) == len(actual)\n",
    "    res = 0\n",
    "    for i in range(len(predicted)):\n",
    "        diff = np.abs(predicted[i] - actual[i]) / np.abs(actual[i])\n",
    "        res += diff\n",
    "    return (res/len(predicted)) * 100"
   ]
  },
  {
   "cell_type": "code",
   "execution_count": 79,
   "metadata": {},
   "outputs": [],
   "source": [
    "def split_sequence(sequence, n_steps):\n",
    "    X, y = list(), list()\n",
    "    for i in range(len(sequence)):\n",
    "        # find the end of this pattern\n",
    "        end_ix = i + n_steps\n",
    "        # check if we are beyond the sequence\n",
    "        if end_ix > len(sequence)-1:\n",
    "            break\n",
    "        # gather input and output parts of the pattern\n",
    "        seq_x, seq_y = sequence[i:end_ix], sequence[end_ix]\n",
    "        X.append(seq_x)\n",
    "        y.append(seq_y)\n",
    "    return np.array(X), np.array(y)"
   ]
  },
  {
   "cell_type": "code",
   "execution_count": 80,
   "metadata": {},
   "outputs": [],
   "source": [
    "n_steps = 6\n",
    "n_features = 1"
   ]
  },
  {
   "cell_type": "code",
   "execution_count": 81,
   "metadata": {},
   "outputs": [
    {
     "name": "stdout",
     "output_type": "stream",
     "text": [
      "568   -0.008282\n",
      "569   -0.008244\n",
      "570   -0.008196\n",
      "571   -0.008152\n",
      "572   -0.008119\n",
      "         ...   \n",
      "705    0.014065\n",
      "706    0.014251\n",
      "707    0.014407\n",
      "708    0.014537\n",
      "709    0.014755\n",
      "Name: Confirmed, Length: 142, dtype: float64\n"
     ]
    }
   ],
   "source": [
    "cali_norm = df_clean[df_clean['Province_State'] == 'California']['Confirmed']\n",
    "print(cali_norm)"
   ]
  },
  {
   "cell_type": "code",
   "execution_count": 82,
   "metadata": {},
   "outputs": [],
   "source": [
    "cali_norm_train = pd.Series.tolist(cali_norm[:112])\n",
    "cali_norm_test = pd.Series.tolist(cali_norm[112:])"
   ]
  },
  {
   "cell_type": "code",
   "execution_count": 83,
   "metadata": {
    "scrolled": true
   },
   "outputs": [
    {
     "name": "stdout",
     "output_type": "stream",
     "text": [
      "106 106\n"
     ]
    }
   ],
   "source": [
    "X, y = split_sequence(cali_norm_train, n_steps)\n",
    "print(len(X), len(y))"
   ]
  },
  {
   "cell_type": "code",
   "execution_count": 84,
   "metadata": {},
   "outputs": [],
   "source": [
    "X = X.reshape((X.shape[0], X.shape[1], n_features))"
   ]
  },
  {
   "cell_type": "code",
   "execution_count": 85,
   "metadata": {},
   "outputs": [],
   "source": [
    "from keras.layers import Bidirectional"
   ]
  },
  {
   "cell_type": "code",
   "execution_count": 86,
   "metadata": {},
   "outputs": [],
   "source": [
    "model2 = Sequential()\n",
    "model2.add(Bidirectional(LSTM(125, activation='relu'), input_shape=(n_steps, n_features)))\n",
    "model2.add(Dense(1))\n",
    "model2.compile(optimizer='adam', loss='mse')"
   ]
  },
  {
   "cell_type": "code",
   "execution_count": 87,
   "metadata": {},
   "outputs": [
    {
     "data": {
      "text/plain": [
       "<keras.callbacks.callbacks.History at 0x7f12e573d8d0>"
      ]
     },
     "execution_count": 87,
     "metadata": {},
     "output_type": "execute_result"
    }
   ],
   "source": [
    "model2.fit(X, y, epochs = 400, verbose = 0)"
   ]
  },
  {
   "cell_type": "code",
   "execution_count": 88,
   "metadata": {},
   "outputs": [
    {
     "name": "stdout",
     "output_type": "stream",
     "text": [
      "[0.008055699, 0.008363012, 0.0086566815, 0.008920105, 0.009180278, 0.009436511, 0.0097006885, 0.009980954, 0.010256197, 0.010524037, 0.010791014, 0.011055659, 0.0113192955, 0.011579935, 0.011835666, 0.012086363, 0.012332592, 0.012573057, 0.012807096, 0.013035047, 0.013256833, 0.013470733, 0.013676708, 0.013874535, 0.014063985, 0.014245522, 0.014419111, 0.01458512, 0.014742943, 0.014893201]\n"
     ]
    }
   ],
   "source": [
    "y_hat = []\n",
    "cur_input = cali_norm_train[-1 * n_steps:]\n",
    "for i in range(30):\n",
    "    x_input = np.array(cur_input)\n",
    "    x_input = x_input.reshape((1, n_steps, n_features))\n",
    "    y = model2.predict(x_input, verbose = 0)\n",
    "    y_hat.append(y[0][0])\n",
    "    cur_input.append(y[0][0])\n",
    "    cur_input.pop(0)\n",
    "print(y_hat)"
   ]
  },
  {
   "cell_type": "code",
   "execution_count": 89,
   "metadata": {},
   "outputs": [
    {
     "data": {
      "text/plain": [
       "[<matplotlib.lines.Line2D at 0x7f12e48b0b50>]"
      ]
     },
     "execution_count": 89,
     "metadata": {},
     "output_type": "execute_result"
    },
    {
     "data": {
      "image/png": "[encoded data removed]",
      "text/plain": [
       "<Figure size 432x288 with 1 Axes>"
      ]
     },
     "metadata": {
      "needs_background": "light"
     },
     "output_type": "display_data"
    }
   ],
   "source": [
    "plt.plot(cali_norm_test)\n",
    "plt.plot(y_hat)"
   ]
  },
  {
   "cell_type": "markdown",
   "metadata": {},
   "source": [
    "Try reversing the normalization"
   ]
  },
  {
   "cell_type": "code",
   "execution_count": 90,
   "metadata": {},
   "outputs": [],
   "source": [
    "sigma_2 = df[df['Province_State'] == 'California']['Confirmed'].var()\n",
    "mu = df[df['Province_State'] == 'California']['Confirmed'].mean()"
   ]
  },
  {
   "cell_type": "code",
   "execution_count": 91,
   "metadata": {},
   "outputs": [],
   "source": [
    "cali_test = []\n",
    "pred = []\n",
    "for i in range(30):\n",
    "    pred_y = y_hat[i] * sigma_2 + mu\n",
    "    cali_test_i = cali_norm_test[i] * sigma_2 + mu\n",
    "    cali_test.append(cali_test_i)\n",
    "    pred.append(pred_y)"
   ]
  },
  {
   "cell_type": "code",
   "execution_count": 92,
   "metadata": {},
   "outputs": [
    {
     "data": {
      "text/plain": [
       "[<matplotlib.lines.Line2D at 0x7f12e482e290>]"
      ]
     },
     "execution_count": 92,
     "metadata": {},
     "output_type": "execute_result"
    },
    {
     "data": {
      "image/png": "[encoded data removed]",
      "text/plain": [
       "<Figure size 432x288 with 1 Axes>"
      ]
     },
     "metadata": {
      "needs_background": "light"
     },
     "output_type": "display_data"
    }
   ],
   "source": [
    "plt.plot(cali_test)\n",
    "plt.plot(pred)"
   ]
  },
  {
   "cell_type": "code",
   "execution_count": 93,
   "metadata": {
    "scrolled": true
   },
   "outputs": [
    {
     "name": "stdout",
     "output_type": "stream",
     "text": [
      "1.2106718661583649\n"
     ]
    }
   ],
   "source": [
    "print(MAPE(pred, cali_test))"
   ]
  },
  {
   "cell_type": "code",
   "execution_count": null,
   "metadata": {},
   "outputs": [],
   "source": []
  }
 ],
 "metadata": {
  "kernelspec": {
   "display_name": "Python 3",
   "language": "python",
   "name": "python3"
  },
  "language_info": {
   "codemirror_mode": {
    "name": "ipython",
    "version": 3
   },
   "file_extension": ".py",
   "mimetype": "text/x-python",
   "name": "python",
   "nbconvert_exporter": "python",
   "pygments_lexer": "ipython3",
   "version": "3.7.9"
  }
 },
 "nbformat": 4,
 "nbformat_minor": 4
}
