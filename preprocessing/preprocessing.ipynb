{
 "cells": [
  {
   "cell_type": "markdown",
   "metadata": {},
   "source": [
    "# Data Setup"
   ]
  },
  {
   "cell_type": "code",
   "execution_count": 1,
   "metadata": {},
   "outputs": [],
   "source": [
    "import pandas as pd\n",
    "import numpy as np\n",
    "import matplotlib.pyplot as plt\n",
    "import seaborn as sns\n",
    "from scipy import stats\n",
    "from sklearn import preprocessing"
   ]
  },
  {
   "cell_type": "code",
   "execution_count": 2,
   "metadata": {},
   "outputs": [],
   "source": [
    "data = pd.read_csv('data/train.csv')\n",
    "data['Date'] = pd.to_datetime(data['Date'])\n",
    "data.index = data['Date']"
   ]
  },
  {
   "cell_type": "code",
   "execution_count": 3,
   "metadata": {
    "scrolled": true
   },
   "outputs": [
    {
     "data": {
      "text/html": [
       "<div>\n",
       "<style scoped>\n",
       "    .dataframe tbody tr th:only-of-type {\n",
       "        vertical-align: middle;\n",
       "    }\n",
       "\n",
       "    .dataframe tbody tr th {\n",
       "        vertical-align: top;\n",
       "    }\n",
       "\n",
       "    .dataframe thead th {\n",
       "        text-align: right;\n",
       "    }\n",
       "</style>\n",
       "<table border=\"1\" class=\"dataframe\">\n",
       "  <thead>\n",
       "    <tr style=\"text-align: right;\">\n",
       "      <th></th>\n",
       "      <th>ID</th>\n",
       "      <th>Province_State</th>\n",
       "      <th>Date</th>\n",
       "      <th>Confirmed</th>\n",
       "      <th>Deaths</th>\n",
       "      <th>Recovered</th>\n",
       "      <th>Active</th>\n",
       "      <th>Incident_Rate</th>\n",
       "      <th>People_Tested</th>\n",
       "      <th>People_Hospitalized</th>\n",
       "      <th>Mortality_Rate</th>\n",
       "      <th>Testing_Rate</th>\n",
       "      <th>Hospitalization_Rate</th>\n",
       "    </tr>\n",
       "    <tr>\n",
       "      <th>Date</th>\n",
       "      <th></th>\n",
       "      <th></th>\n",
       "      <th></th>\n",
       "      <th></th>\n",
       "      <th></th>\n",
       "      <th></th>\n",
       "      <th></th>\n",
       "      <th></th>\n",
       "      <th></th>\n",
       "      <th></th>\n",
       "      <th></th>\n",
       "      <th></th>\n",
       "      <th></th>\n",
       "    </tr>\n",
       "  </thead>\n",
       "  <tbody>\n",
       "    <tr>\n",
       "      <th>2020-04-12</th>\n",
       "      <td>0</td>\n",
       "      <td>Alabama</td>\n",
       "      <td>2020-04-12</td>\n",
       "      <td>3563</td>\n",
       "      <td>93</td>\n",
       "      <td>NaN</td>\n",
       "      <td>3470.0</td>\n",
       "      <td>75.988020</td>\n",
       "      <td>21583.0</td>\n",
       "      <td>437.0</td>\n",
       "      <td>2.610160</td>\n",
       "      <td>460.300152</td>\n",
       "      <td>12.264945</td>\n",
       "    </tr>\n",
       "    <tr>\n",
       "      <th>2020-04-12</th>\n",
       "      <td>1</td>\n",
       "      <td>Alaska</td>\n",
       "      <td>2020-04-12</td>\n",
       "      <td>272</td>\n",
       "      <td>8</td>\n",
       "      <td>66.0</td>\n",
       "      <td>264.0</td>\n",
       "      <td>45.504049</td>\n",
       "      <td>8038.0</td>\n",
       "      <td>31.0</td>\n",
       "      <td>2.941176</td>\n",
       "      <td>1344.711576</td>\n",
       "      <td>11.397059</td>\n",
       "    </tr>\n",
       "    <tr>\n",
       "      <th>2020-04-12</th>\n",
       "      <td>2</td>\n",
       "      <td>Arizona</td>\n",
       "      <td>2020-04-12</td>\n",
       "      <td>3542</td>\n",
       "      <td>115</td>\n",
       "      <td>NaN</td>\n",
       "      <td>3427.0</td>\n",
       "      <td>48.662422</td>\n",
       "      <td>42109.0</td>\n",
       "      <td>NaN</td>\n",
       "      <td>3.246753</td>\n",
       "      <td>578.522286</td>\n",
       "      <td>NaN</td>\n",
       "    </tr>\n",
       "    <tr>\n",
       "      <th>2020-04-12</th>\n",
       "      <td>3</td>\n",
       "      <td>Arkansas</td>\n",
       "      <td>2020-04-12</td>\n",
       "      <td>1280</td>\n",
       "      <td>27</td>\n",
       "      <td>367.0</td>\n",
       "      <td>1253.0</td>\n",
       "      <td>49.439423</td>\n",
       "      <td>19722.0</td>\n",
       "      <td>130.0</td>\n",
       "      <td>2.109375</td>\n",
       "      <td>761.753354</td>\n",
       "      <td>10.156250</td>\n",
       "    </tr>\n",
       "    <tr>\n",
       "      <th>2020-04-12</th>\n",
       "      <td>4</td>\n",
       "      <td>California</td>\n",
       "      <td>2020-04-12</td>\n",
       "      <td>22795</td>\n",
       "      <td>640</td>\n",
       "      <td>NaN</td>\n",
       "      <td>22155.0</td>\n",
       "      <td>58.137726</td>\n",
       "      <td>190328.0</td>\n",
       "      <td>5234.0</td>\n",
       "      <td>2.812020</td>\n",
       "      <td>485.423869</td>\n",
       "      <td>22.961176</td>\n",
       "    </tr>\n",
       "  </tbody>\n",
       "</table>\n",
       "</div>"
      ],
      "text/plain": [
       "            ID Province_State       Date  Confirmed  Deaths  Recovered  \\\n",
       "Date                                                                     \n",
       "2020-04-12   0        Alabama 2020-04-12       3563      93        NaN   \n",
       "2020-04-12   1         Alaska 2020-04-12        272       8       66.0   \n",
       "2020-04-12   2        Arizona 2020-04-12       3542     115        NaN   \n",
       "2020-04-12   3       Arkansas 2020-04-12       1280      27      367.0   \n",
       "2020-04-12   4     California 2020-04-12      22795     640        NaN   \n",
       "\n",
       "             Active  Incident_Rate  People_Tested  People_Hospitalized  \\\n",
       "Date                                                                     \n",
       "2020-04-12   3470.0      75.988020        21583.0                437.0   \n",
       "2020-04-12    264.0      45.504049         8038.0                 31.0   \n",
       "2020-04-12   3427.0      48.662422        42109.0                  NaN   \n",
       "2020-04-12   1253.0      49.439423        19722.0                130.0   \n",
       "2020-04-12  22155.0      58.137726       190328.0               5234.0   \n",
       "\n",
       "            Mortality_Rate  Testing_Rate  Hospitalization_Rate  \n",
       "Date                                                            \n",
       "2020-04-12        2.610160    460.300152             12.264945  \n",
       "2020-04-12        2.941176   1344.711576             11.397059  \n",
       "2020-04-12        3.246753    578.522286                   NaN  \n",
       "2020-04-12        2.109375    761.753354             10.156250  \n",
       "2020-04-12        2.812020    485.423869             22.961176  "
      ]
     },
     "execution_count": 3,
     "metadata": {},
     "output_type": "execute_result"
    }
   ],
   "source": [
    "data.head()"
   ]
  },
  {
   "cell_type": "markdown",
   "metadata": {},
   "source": [
    "# Data Interpolation"
   ]
  },
  {
   "cell_type": "code",
   "execution_count": 4,
   "metadata": {},
   "outputs": [
    {
     "data": {
      "text/plain": [
       "ID                         0\n",
       "Province_State             0\n",
       "Date                       0\n",
       "Confirmed                  0\n",
       "Deaths                     0\n",
       "Recovered               1329\n",
       "Active                     0\n",
       "Incident_Rate              0\n",
       "People_Tested              0\n",
       "People_Hospitalized     2053\n",
       "Mortality_Rate             0\n",
       "Testing_Rate               0\n",
       "Hospitalization_Rate    2053\n",
       "dtype: int64"
      ]
     },
     "execution_count": 4,
     "metadata": {},
     "output_type": "execute_result"
    }
   ],
   "source": [
    "data.isna().sum()"
   ]
  },
  {
   "cell_type": "markdown",
   "metadata": {},
   "source": [
    "Some columns are missing values. Let's see if we can interpolate. "
   ]
  },
  {
   "cell_type": "code",
   "execution_count": 5,
   "metadata": {},
   "outputs": [
    {
     "data": {
      "text/plain": [
       "[<matplotlib.lines.Line2D at 0x7f0bb779e370>]"
      ]
     },
     "execution_count": 5,
     "metadata": {},
     "output_type": "execute_result"
    },
    {
     "data": {
      "image/png": "[encoded data removed]",
      "text/plain": [
       "<Figure size 432x288 with 1 Axes>"
      ]
     },
     "metadata": {
      "needs_background": "light"
     },
     "output_type": "display_data"
    }
   ],
   "source": [
    "alabama = data.loc[data['Province_State'] == 'Alabama'].copy()\n",
    "\n",
    "fig, ax = plt.subplots()\n",
    "fig.autofmt_xdate()\n",
    "ax.plot(alabama['Recovered'])"
   ]
  },
  {
   "cell_type": "code",
   "execution_count": 6,
   "metadata": {},
   "outputs": [
    {
     "data": {
      "text/plain": [
       "[<matplotlib.lines.Line2D at 0x7f0bb76fdeb0>]"
      ]
     },
     "execution_count": 6,
     "metadata": {},
     "output_type": "execute_result"
    },
    {
     "data": {
      "image/png": "[encoded data removed]",
      "text/plain": [
       "<Figure size 432x288 with 1 Axes>"
      ]
     },
     "metadata": {
      "needs_background": "light"
     },
     "output_type": "display_data"
    }
   ],
   "source": [
    "alabama['Recovered'] = alabama['Recovered'].interpolate(method='time')\n",
    "\n",
    "fig, ax = plt.subplots()\n",
    "fig.autofmt_xdate()\n",
    "ax.plot(alabama['Recovered'])"
   ]
  },
  {
   "cell_type": "markdown",
   "metadata": {},
   "source": [
    "Well, that was easy. \n",
    "Can we apply it to our entire dataset on a state-to-state basis? "
   ]
  },
  {
   "cell_type": "code",
   "execution_count": 7,
   "metadata": {},
   "outputs": [],
   "source": [
    "interpolated = pd.DataFrame(columns=data.columns)\n",
    "states = data.groupby('Province_State')\n",
    "for state_name, state_data in states: \n",
    "    interpolated = interpolated.append(state_data.interpolate(method='time'))"
   ]
  },
  {
   "cell_type": "code",
   "execution_count": 8,
   "metadata": {},
   "outputs": [
    {
     "data": {
      "text/plain": [
       "ID                        0\n",
       "Province_State            0\n",
       "Date                      0\n",
       "Confirmed                 0\n",
       "Deaths                    0\n",
       "Recovered               396\n",
       "Active                    0\n",
       "Incident_Rate             0\n",
       "People_Tested             0\n",
       "People_Hospitalized      66\n",
       "Mortality_Rate            0\n",
       "Testing_Rate              0\n",
       "Hospitalization_Rate     66\n",
       "dtype: int64"
      ]
     },
     "execution_count": 8,
     "metadata": {},
     "output_type": "execute_result"
    }
   ],
   "source": [
    "interpolated.isna().sum()"
   ]
  },
  {
   "cell_type": "markdown",
   "metadata": {},
   "source": [
    "As seen above, interpolation doesn't catch *every* `NaN` value. \n",
    "Values at the beginning of our timeframe are not processed due to lack of a \"starting point\" to interpolate from. \n",
    "Seeing as we're analyzing our data on a column-by-column basis, I don't think this will be an issue; our models can just treat the data as \"starting\" from a later date. \n",
    "\n",
    "**When processing this data, I'd recommend dropping every row with a `NaN` value.**"
   ]
  },
  {
   "cell_type": "code",
   "execution_count": 9,
   "metadata": {},
   "outputs": [],
   "source": [
    "# Sort the data back into the original order, then write to disk. \n",
    "disk = interpolated.copy()\n",
    "disk.index = interpolated['ID']\n",
    "disk.sort_index(inplace=True)\n",
    "disk.to_csv('train-interpolated.csv', index=False)\n",
    "del disk"
   ]
  },
  {
   "cell_type": "markdown",
   "metadata": {},
   "source": [
    "# Normalization"
   ]
  },
  {
   "cell_type": "markdown",
   "metadata": {},
   "source": [
    "Justin has normalized and scaled the data. Let's modify his code a bit, then apply it to our already-interpolated dataset."
   ]
  },
  {
   "cell_type": "code",
   "execution_count": 10,
   "metadata": {},
   "outputs": [],
   "source": [
    "scaled = pd.DataFrame()\n",
    "\n",
    "# Group data by State for cleaning.\n",
    "for name, group in interpolated.groupby('Province_State'):\n",
    "    # Scale all numerical categories\n",
    "    for cat in list(interpolated.columns)[3:]:\n",
    "        # Standard Scale numeric columns (State-wise)\n",
    "        mean = group[cat].mean()\n",
    "        var = group[cat].var()\n",
    "        group[cat] = group[cat].apply(lambda x : (x - mean)/var)\n",
    "    scaled = pd.concat([scaled, group], ignore_index=True)\n",
    "\n",
    "# Standard Scale all numeric columns (GLOBALLY)\n",
    "scaler = preprocessing.StandardScaler()\n",
    "c = scaled.select_dtypes('number').columns[1:]\n",
    "scaled[c] = scaler.fit_transform(scaled[c])"
   ]
  },
  {
   "cell_type": "code",
   "execution_count": 11,
   "metadata": {},
   "outputs": [],
   "source": [
    "# Sort the data back into the original order, then write to disk. \n",
    "disk = scaled.copy()\n",
    "disk.index = scaled['ID']\n",
    "disk.sort_index(inplace=True)\n",
    "disk.to_csv('train-scaled.csv', index=False)\n",
    "del disk"
   ]
  },
  {
   "cell_type": "markdown",
   "metadata": {},
   "source": [
    "How do we unscale the data points? "
   ]
  },
  {
   "cell_type": "code",
   "execution_count": null,
   "metadata": {},
   "outputs": [],
   "source": [
    "scaler.inverse_transformation()\n",
    "# NOTE: This might not work. Justin already scales, *then* runs the scaler? WTF?"
   ]
  }
 ],
 "metadata": {
  "kernelspec": {
   "display_name": "Python 3",
   "language": "python",
   "name": "python3"
  },
  "language_info": {
   "codemirror_mode": {
    "name": "ipython",
    "version": 3
   },
   "file_extension": ".py",
   "mimetype": "text/x-python",
   "name": "python",
   "nbconvert_exporter": "python",
   "pygments_lexer": "ipython3",
   "version": "3.7.9"
  }
 },
 "nbformat": 4,
 "nbformat_minor": 4
}
